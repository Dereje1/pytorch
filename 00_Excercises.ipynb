{
  "nbformat": 4,
  "nbformat_minor": 0,
  "metadata": {
    "colab": {
      "provenance": [],
      "gpuType": "T4",
      "authorship_tag": "ABX9TyP3/MLnhdxLY5AzsYPR7hvs",
      "include_colab_link": true
    },
    "kernelspec": {
      "name": "python3",
      "display_name": "Python 3"
    },
    "language_info": {
      "name": "python"
    },
    "accelerator": "GPU"
  },
  "cells": [
    {
      "cell_type": "markdown",
      "metadata": {
        "id": "view-in-github",
        "colab_type": "text"
      },
      "source": [
        "<a href=\"https://colab.research.google.com/github/Dereje1/pytorch/blob/main/00_Excercises.ipynb\" target=\"_parent\"><img src=\"https://colab.research.google.com/assets/colab-badge.svg\" alt=\"Open In Colab\"/></a>"
      ]
    },
    {
      "cell_type": "markdown",
      "source": [
        "1. Documentation reading - A big part of deep learning (and learning to code in general) is getting familiar with the documentation of a certain framework you're using. We'll be using the PyTorch documentation a lot throughout the rest of this course. So I'd recommend spending 10-minutes reading the following (it's okay if you don't get some things for now, the focus is not yet full understanding, it's awareness). See the documentation on torch.Tensor and for torch.cuda."
      ],
      "metadata": {
        "id": "BX9Bd7DY8sB6"
      }
    },
    {
      "cell_type": "markdown",
      "source": [
        "2. Create a random tensor with shape (7, 7)."
      ],
      "metadata": {
        "id": "1jDlGAH6-KgE"
      }
    },
    {
      "cell_type": "code",
      "source": [
        "import torch\n",
        "rand_tensor = torch.rand(7,7)\n",
        "rand_tensor"
      ],
      "metadata": {
        "colab": {
          "base_uri": "https://localhost:8080/"
        },
        "id": "R3PpNG0T-Jpc",
        "outputId": "3c6f3310-4472-474d-e39b-dcb30e6e1b12"
      },
      "execution_count": 27,
      "outputs": [
        {
          "output_type": "execute_result",
          "data": {
            "text/plain": [
              "tensor([[0.5479, 0.4440, 0.7041, 0.5573, 0.6959, 0.9849, 0.2924],\n",
              "        [0.4823, 0.6150, 0.4967, 0.4521, 0.0575, 0.0687, 0.0501],\n",
              "        [0.0108, 0.0343, 0.1212, 0.0490, 0.0310, 0.7192, 0.8067],\n",
              "        [0.8379, 0.7694, 0.6694, 0.7203, 0.2235, 0.9502, 0.4655],\n",
              "        [0.9314, 0.6533, 0.8914, 0.8988, 0.3955, 0.3546, 0.5752],\n",
              "        [0.4787, 0.5782, 0.7536, 0.1093, 0.4771, 0.1076, 0.9829],\n",
              "        [0.1483, 0.5956, 0.3634, 0.7842, 0.5017, 0.4497, 0.8660]])"
            ]
          },
          "metadata": {},
          "execution_count": 27
        }
      ]
    },
    {
      "cell_type": "markdown",
      "source": [
        "3. Perform a matrix multiplication on the tensor from 2 with another random tensor with shape (1, 7) (hint: you may have to transpose the second tensor)."
      ],
      "metadata": {
        "id": "_pxle06__9eq"
      }
    },
    {
      "cell_type": "code",
      "source": [
        "rand_tensor_b = torch.rand(1,7)\n",
        "torch.matmul(rand_tensor, rand_tensor_b.T)"
      ],
      "metadata": {
        "colab": {
          "base_uri": "https://localhost:8080/"
        },
        "id": "7assqNTf__mC",
        "outputId": "bdf1c4df-f1bc-4343-979b-6e1d33578787"
      },
      "execution_count": 28,
      "outputs": [
        {
          "output_type": "execute_result",
          "data": {
            "text/plain": [
              "tensor([[2.2430],\n",
              "        [0.9277],\n",
              "        [1.2816],\n",
              "        [2.4873],\n",
              "        [2.5144],\n",
              "        [1.9350],\n",
              "        [2.0938]])"
            ]
          },
          "metadata": {},
          "execution_count": 28
        }
      ]
    },
    {
      "cell_type": "markdown",
      "source": [
        "4. Set the random seed to 0 and do exercises 2 & 3 over again."
      ],
      "metadata": {
        "id": "KPgU8z7hA-Ed"
      }
    },
    {
      "cell_type": "code",
      "source": [
        "RAND_SEED = 0;\n",
        "torch.manual_seed(RAND_SEED)\n",
        "rand_tensor = torch.rand(7,7)\n",
        "rand_tensor_b = torch.rand(1,7)\n",
        "torch.matmul(rand_tensor, rand_tensor_b.T)"
      ],
      "metadata": {
        "colab": {
          "base_uri": "https://localhost:8080/"
        },
        "id": "8swn3QRTBB8K",
        "outputId": "dc56e5ea-8f85-4d73-a498-0c0c73aebad9"
      },
      "execution_count": 40,
      "outputs": [
        {
          "output_type": "execute_result",
          "data": {
            "text/plain": [
              "tensor([[1.8542],\n",
              "        [1.9611],\n",
              "        [2.2884],\n",
              "        [3.0481],\n",
              "        [1.7067],\n",
              "        [2.5290],\n",
              "        [1.7989]])"
            ]
          },
          "metadata": {},
          "execution_count": 40
        }
      ]
    },
    {
      "cell_type": "markdown",
      "source": [
        "5. Speaking of random seeds, we saw how to set it with torch.manual_seed() but is there a GPU equivalent? (hint: you'll need to look into the documentation for torch.cuda for this one). If there is, set the GPU random seed to 1234."
      ],
      "metadata": {
        "id": "0YO1JmUxBtZW"
      }
    },
    {
      "cell_type": "code",
      "source": [
        "device = \"cuda\" if torch.cuda.is_available() else \"cpu\"\n",
        "RAND_SEED = 1234;\n",
        "torch.manual_seed(RAND_SEED)\n",
        "rand_gpu_tensor = torch.rand(7,7, device = device);\n",
        "rand_gpu_tensor"
      ],
      "metadata": {
        "colab": {
          "base_uri": "https://localhost:8080/"
        },
        "id": "a_pjqQjnCJVl",
        "outputId": "8878e48b-709b-4f12-f65d-a4cf7b0fd443"
      },
      "execution_count": 30,
      "outputs": [
        {
          "output_type": "execute_result",
          "data": {
            "text/plain": [
              "tensor([[0.1272, 0.8167, 0.5440, 0.6601, 0.2721, 0.9737, 0.3903],\n",
              "        [0.3394, 0.5451, 0.7312, 0.3864, 0.5959, 0.7578, 0.2126],\n",
              "        [0.7198, 0.9845, 0.5518, 0.0981, 0.0582, 0.5839, 0.1083],\n",
              "        [0.9461, 0.3170, 0.8328, 0.6676, 0.2886, 0.9022, 0.8115],\n",
              "        [0.1784, 0.9534, 0.1486, 0.3882, 0.7977, 0.1752, 0.5777],\n",
              "        [0.1949, 0.8499, 0.3125, 0.2156, 0.0383, 0.4934, 0.3138],\n",
              "        [0.3121, 0.5664, 0.1266, 0.7097, 0.0040, 0.5147, 0.2811]],\n",
              "       device='cuda:0')"
            ]
          },
          "metadata": {},
          "execution_count": 30
        }
      ]
    },
    {
      "cell_type": "markdown",
      "source": [
        "6. Create two random tensors of shape (2, 3) and send them both to the GPU (you'll need access to a GPU for this). Set torch.manual_seed(1234) when creating the tensors (this doesn't have to be the GPU random seed)."
      ],
      "metadata": {
        "id": "jfxEOVDaENR7"
      }
    },
    {
      "cell_type": "code",
      "source": [
        "RAND_SEED = 1234;\n",
        "torch.manual_seed(RAND_SEED)\n",
        "random_tensor_a = torch.rand(2,3)\n",
        "random_tensor_b = torch.rand(2,3)\n",
        "random_tensor_a_GPU = random_tensor_a.to(device=device)\n",
        "random_tensor_b_GPU = random_tensor_b.to(device=device)\n",
        "print(random_tensor_a_GPU)\n",
        "print(random_tensor_b_GPU)"
      ],
      "metadata": {
        "colab": {
          "base_uri": "https://localhost:8080/"
        },
        "id": "RlP5tuOMEPtg",
        "outputId": "fbeec758-8fa4-4b7a-97a6-f1046dcfb0a6"
      },
      "execution_count": 41,
      "outputs": [
        {
          "output_type": "stream",
          "name": "stdout",
          "text": [
            "tensor([[0.0290, 0.4019, 0.2598],\n",
            "        [0.3666, 0.0583, 0.7006]], device='cuda:0')\n",
            "tensor([[0.0518, 0.4681, 0.6738],\n",
            "        [0.3315, 0.7837, 0.5631]], device='cuda:0')\n"
          ]
        }
      ]
    },
    {
      "cell_type": "markdown",
      "source": [
        "7. Perform a matrix multiplication on the tensors you created in 6 (again, you may have to adjust the shapes of one of the tensors)."
      ],
      "metadata": {
        "id": "BBGvkCpxFnGP"
      }
    },
    {
      "cell_type": "code",
      "source": [
        "dot_product = torch.matmul(random_tensor_a_GPU, random_tensor_b_GPU.T)\n",
        "dot_product"
      ],
      "metadata": {
        "colab": {
          "base_uri": "https://localhost:8080/"
        },
        "id": "2VV4q-46Fot6",
        "outputId": "bb5c9c45-00cb-47a9-9306-9ab63cc3d57e"
      },
      "execution_count": 42,
      "outputs": [
        {
          "output_type": "execute_result",
          "data": {
            "text/plain": [
              "tensor([[0.3647, 0.4709],\n",
              "        [0.5184, 0.5617]], device='cuda:0')"
            ]
          },
          "metadata": {},
          "execution_count": 42
        }
      ]
    },
    {
      "cell_type": "markdown",
      "source": [
        "8. Find the maximum and minimum values of the output of 7"
      ],
      "metadata": {
        "id": "yqXSVOlWGQ5p"
      }
    },
    {
      "cell_type": "code",
      "source": [
        "dot_product_max = torch.max(dot_product)\n",
        "dot_product_min = torch.min(dot_product)\n",
        "print(f\"Max -> {dot_product_max}, Min -> {dot_product_min}\")"
      ],
      "metadata": {
        "colab": {
          "base_uri": "https://localhost:8080/"
        },
        "id": "qGthKQJ8GeRe",
        "outputId": "4193cb66-26bf-48e4-c3f9-e8fea1667801"
      },
      "execution_count": 43,
      "outputs": [
        {
          "output_type": "stream",
          "name": "stdout",
          "text": [
            "Max -> 0.5617256760597229, Min -> 0.3647301495075226\n"
          ]
        }
      ]
    },
    {
      "cell_type": "markdown",
      "source": [
        "9. Find the maximum and minimum index values of the output of 7."
      ],
      "metadata": {
        "id": "L_YXdTU1HH95"
      }
    },
    {
      "cell_type": "code",
      "source": [
        "dot_product_max_index = torch.argmax(dot_product)\n",
        "dot_product_min_index = torch.argmin(dot_product)\n",
        "print(f\"Max Index -> {dot_product_max_index}, Min Index -> {dot_product_min_index}\")"
      ],
      "metadata": {
        "colab": {
          "base_uri": "https://localhost:8080/"
        },
        "id": "-YcLxAmNHKJS",
        "outputId": "37d9329f-1c6f-4e6c-a5cf-78be0ac9f627"
      },
      "execution_count": 44,
      "outputs": [
        {
          "output_type": "stream",
          "name": "stdout",
          "text": [
            "Max Index -> 3, Min Index -> 0\n"
          ]
        }
      ]
    },
    {
      "cell_type": "markdown",
      "source": [
        "10. Make a random tensor with shape (1, 1, 1, 10) and then create a new tensor with all the 1 dimensions removed to be left with a tensor of shape (10). Set the seed to 7 when you create it and print out the first tensor and it's shape as well as the second tensor and it's shape."
      ],
      "metadata": {
        "id": "NS6LJFc0Hmcf"
      }
    },
    {
      "cell_type": "code",
      "source": [
        "RAND_SEED = 7\n",
        "torch.manual_seed(RAND_SEED)\n",
        "rand_tensor = torch.rand(1,1,1,10)\n",
        "squeezed_rand_tensor = rand_tensor.squeeze()\n",
        "print(f\"Original tensor -> {rand_tensor} with shape -> {rand_tensor.shape}\")\n",
        "print(f\"Modified tensor -> {squeezed_rand_tensor} with shape -> {squeezed_rand_tensor.shape}\")"
      ],
      "metadata": {
        "colab": {
          "base_uri": "https://localhost:8080/"
        },
        "id": "Iug0bwRXHox8",
        "outputId": "5d7a5fd5-f56f-4729-a54d-a29efac2f8a3"
      },
      "execution_count": 45,
      "outputs": [
        {
          "output_type": "stream",
          "name": "stdout",
          "text": [
            "Original tensor -> tensor([[[[0.5349, 0.1988, 0.6592, 0.6569, 0.2328, 0.4251, 0.2071, 0.6297,\n",
            "           0.3653, 0.8513]]]]) with shape -> torch.Size([1, 1, 1, 10])\n",
            "Modified tensor -> tensor([0.5349, 0.1988, 0.6592, 0.6569, 0.2328, 0.4251, 0.2071, 0.6297, 0.3653,\n",
            "        0.8513]) with shape -> torch.Size([10])\n"
          ]
        }
      ]
    },
    {
      "cell_type": "markdown",
      "source": [
        "good refresher of scalars, vectors, matrices here https://www.youtube.com/watch?v=f5liqUk0ZTw"
      ],
      "metadata": {
        "id": "HLIL6w4QMYdV"
      }
    }
  ]
}