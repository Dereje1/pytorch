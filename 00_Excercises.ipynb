{
  "nbformat": 4,
  "nbformat_minor": 0,
  "metadata": {
    "colab": {
      "provenance": [],
      "gpuType": "T4",
      "authorship_tag": "ABX9TyMq/u+vuoYnpXhTQ7rrQAdU",
      "include_colab_link": true
    },
    "kernelspec": {
      "name": "python3",
      "display_name": "Python 3"
    },
    "language_info": {
      "name": "python"
    },
    "accelerator": "GPU"
  },
  "cells": [
    {
      "cell_type": "markdown",
      "metadata": {
        "id": "view-in-github",
        "colab_type": "text"
      },
      "source": [
        "<a href=\"https://colab.research.google.com/github/Dereje1/pytorch/blob/main/00_Excercises.ipynb\" target=\"_parent\"><img src=\"https://colab.research.google.com/assets/colab-badge.svg\" alt=\"Open In Colab\"/></a>"
      ]
    },
    {
      "cell_type": "markdown",
      "source": [
        "1. Documentation reading - A big part of deep learning (and learning to code in general) is getting familiar with the documentation of a certain framework you're using. We'll be using the PyTorch documentation a lot throughout the rest of this course. So I'd recommend spending 10-minutes reading the following (it's okay if you don't get some things for now, the focus is not yet full understanding, it's awareness). See the documentation on torch.Tensor and for torch.cuda."
      ],
      "metadata": {
        "id": "BX9Bd7DY8sB6"
      }
    },
    {
      "cell_type": "markdown",
      "source": [
        "2. Create a random tensor with shape (7, 7)."
      ],
      "metadata": {
        "id": "1jDlGAH6-KgE"
      }
    },
    {
      "cell_type": "code",
      "source": [
        "import torch\n",
        "rand_tensor = torch.rand(7,7)\n",
        "rand_tensor"
      ],
      "metadata": {
        "colab": {
          "base_uri": "https://localhost:8080/"
        },
        "id": "R3PpNG0T-Jpc",
        "outputId": "ebb41d57-e544-4fae-d2d5-fc0db3433f32"
      },
      "execution_count": 2,
      "outputs": [
        {
          "output_type": "execute_result",
          "data": {
            "text/plain": [
              "tensor([[0.0064, 0.9653, 0.1863, 0.4682, 0.7394, 0.1892, 0.8644],\n",
              "        [0.5751, 0.6476, 0.4276, 0.4708, 0.8928, 0.9649, 0.9617],\n",
              "        [0.5123, 0.3654, 0.3792, 0.2408, 0.9235, 0.8363, 0.4763],\n",
              "        [0.8051, 0.1505, 0.9733, 0.8059, 0.1898, 0.1320, 0.1160],\n",
              "        [0.8893, 0.7497, 0.3312, 0.2410, 0.7046, 0.8596, 0.8203],\n",
              "        [0.8914, 0.1101, 0.8500, 0.2224, 0.5297, 0.2524, 0.8517],\n",
              "        [0.6406, 0.9706, 0.8707, 0.1009, 0.0378, 0.0578, 0.0483]])"
            ]
          },
          "metadata": {},
          "execution_count": 2
        }
      ]
    },
    {
      "cell_type": "markdown",
      "source": [
        "3. Perform a matrix multiplication on the tensor from 2 with another random tensor with shape (1, 7) (hint: you may have to transpose the second tensor)."
      ],
      "metadata": {
        "id": "_pxle06__9eq"
      }
    },
    {
      "cell_type": "code",
      "source": [
        "rand_tensor_b = torch.rand(1,7)\n",
        "torch.matmul(rand_tensor, rand_tensor_b.T)"
      ],
      "metadata": {
        "colab": {
          "base_uri": "https://localhost:8080/"
        },
        "id": "7assqNTf__mC",
        "outputId": "00ec6757-123b-430d-b44b-f1704b844bab"
      },
      "execution_count": 3,
      "outputs": [
        {
          "output_type": "execute_result",
          "data": {
            "text/plain": [
              "tensor([[1.6435],\n",
              "        [2.2858],\n",
              "        [1.6329],\n",
              "        [1.2726],\n",
              "        [1.9279],\n",
              "        [1.3539],\n",
              "        [0.8017]])"
            ]
          },
          "metadata": {},
          "execution_count": 3
        }
      ]
    },
    {
      "cell_type": "markdown",
      "source": [
        "4. Set the random seed to 0 and do exercises 2 & 3 over again."
      ],
      "metadata": {
        "id": "KPgU8z7hA-Ed"
      }
    },
    {
      "cell_type": "code",
      "source": [
        "RAND_SEED = 36;\n",
        "torch.manual_seed(RAND_SEED)\n",
        "rand_tensor = torch.rand(7,7)\n",
        "torch.manual_seed(RAND_SEED)\n",
        "rand_tensor_b = torch.rand(1,7)\n",
        "torch.matmul(rand_tensor, rand_tensor_b.T)"
      ],
      "metadata": {
        "colab": {
          "base_uri": "https://localhost:8080/"
        },
        "id": "8swn3QRTBB8K",
        "outputId": "cd0096c9-1539-455c-f626-78c6ba85d303"
      },
      "execution_count": 4,
      "outputs": [
        {
          "output_type": "execute_result",
          "data": {
            "text/plain": [
              "tensor([[1.7185],\n",
              "        [2.0795],\n",
              "        [0.9848],\n",
              "        [1.6041],\n",
              "        [1.3208],\n",
              "        [2.0223],\n",
              "        [1.9024]])"
            ]
          },
          "metadata": {},
          "execution_count": 4
        }
      ]
    },
    {
      "cell_type": "markdown",
      "source": [
        "5. Speaking of random seeds, we saw how to set it with torch.manual_seed() but is there a GPU equivalent? (hint: you'll need to look into the documentation for torch.cuda for this one). If there is, set the GPU random seed to 1234."
      ],
      "metadata": {
        "id": "0YO1JmUxBtZW"
      }
    },
    {
      "cell_type": "code",
      "source": [
        "device = \"cuda\" if torch.cuda.is_available() else \"cpu\"\n",
        "RAND_SEED = 1234;\n",
        "torch.manual_seed(RAND_SEED)\n",
        "rand_gpu_tensor = torch.rand(7,7, device = device);\n",
        "rand_gpu_tensor"
      ],
      "metadata": {
        "colab": {
          "base_uri": "https://localhost:8080/"
        },
        "id": "a_pjqQjnCJVl",
        "outputId": "b8e21b8d-5690-47e7-9c67-9cae78a7e83e"
      },
      "execution_count": 13,
      "outputs": [
        {
          "output_type": "execute_result",
          "data": {
            "text/plain": [
              "tensor([[0.1272, 0.8167, 0.5440, 0.6601, 0.2721, 0.9737, 0.3903],\n",
              "        [0.3394, 0.5451, 0.7312, 0.3864, 0.5959, 0.7578, 0.2126],\n",
              "        [0.7198, 0.9845, 0.5518, 0.0981, 0.0582, 0.5839, 0.1083],\n",
              "        [0.9461, 0.3170, 0.8328, 0.6676, 0.2886, 0.9022, 0.8115],\n",
              "        [0.1784, 0.9534, 0.1486, 0.3882, 0.7977, 0.1752, 0.5777],\n",
              "        [0.1949, 0.8499, 0.3125, 0.2156, 0.0383, 0.4934, 0.3138],\n",
              "        [0.3121, 0.5664, 0.1266, 0.7097, 0.0040, 0.5147, 0.2811]],\n",
              "       device='cuda:0')"
            ]
          },
          "metadata": {},
          "execution_count": 13
        }
      ]
    },
    {
      "cell_type": "markdown",
      "source": [
        "6. Create two random tensors of shape (2, 3) and send them both to the GPU (you'll need access to a GPU for this). Set torch.manual_seed(1234) when creating the tensors (this doesn't have to be the GPU random seed)."
      ],
      "metadata": {
        "id": "jfxEOVDaENR7"
      }
    },
    {
      "cell_type": "code",
      "source": [
        "RAND_SEED = 1234;\n",
        "torch.manual_seed(RAND_SEED)\n",
        "random_tensor_a = torch.rand(2,3)\n",
        "torch.manual_seed(RAND_SEED)\n",
        "random_tensor_b = torch.rand(2,3)\n",
        "random_tensor_a_GPU = random_tensor_a.to(device=device)\n",
        "random_tensor_b_GPU = random_tensor_b.to(device=device)\n",
        "print(random_tensor_a_GPU)\n",
        "print(random_tensor_b_GPU)"
      ],
      "metadata": {
        "colab": {
          "base_uri": "https://localhost:8080/"
        },
        "id": "RlP5tuOMEPtg",
        "outputId": "462216db-875b-4521-b995-f606e7a4bbef"
      },
      "execution_count": 15,
      "outputs": [
        {
          "output_type": "stream",
          "name": "stdout",
          "text": [
            "tensor([[0.0290, 0.4019, 0.2598],\n",
            "        [0.3666, 0.0583, 0.7006]], device='cuda:0')\n",
            "tensor([[0.0290, 0.4019, 0.2598],\n",
            "        [0.3666, 0.0583, 0.7006]], device='cuda:0')\n"
          ]
        }
      ]
    },
    {
      "cell_type": "markdown",
      "source": [
        "7. Perform a matrix multiplication on the tensors you created in 6 (again, you may have to adjust the shapes of one of the tensors)."
      ],
      "metadata": {
        "id": "BBGvkCpxFnGP"
      }
    },
    {
      "cell_type": "code",
      "source": [
        "dot_product = torch.matmul(random_tensor_a_GPU, random_tensor_b_GPU.T)\n",
        "dot_product"
      ],
      "metadata": {
        "colab": {
          "base_uri": "https://localhost:8080/"
        },
        "id": "2VV4q-46Fot6",
        "outputId": "161cea96-0b48-4a82-c34f-a3098cf0140f"
      },
      "execution_count": 19,
      "outputs": [
        {
          "output_type": "execute_result",
          "data": {
            "text/plain": [
              "tensor([[0.2299, 0.2161],\n",
              "        [0.2161, 0.6287]], device='cuda:0')"
            ]
          },
          "metadata": {},
          "execution_count": 19
        }
      ]
    },
    {
      "cell_type": "markdown",
      "source": [
        "8. Find the maximum and minimum values of the output of 7"
      ],
      "metadata": {
        "id": "yqXSVOlWGQ5p"
      }
    },
    {
      "cell_type": "code",
      "source": [
        "dot_product_max = torch.max(dot_product)\n",
        "dot_product_min = torch.min(dot_product)\n",
        "print(f\"Max -> {dot_product_max}, Min -> {dot_product_min}\")"
      ],
      "metadata": {
        "colab": {
          "base_uri": "https://localhost:8080/"
        },
        "id": "qGthKQJ8GeRe",
        "outputId": "e809afb3-3a6a-45f3-c978-3b40ae297636"
      },
      "execution_count": 20,
      "outputs": [
        {
          "output_type": "stream",
          "name": "stdout",
          "text": [
            "Max -> 0.628727912902832, Min -> 0.21611443161964417\n"
          ]
        }
      ]
    },
    {
      "cell_type": "markdown",
      "source": [
        "9. Find the maximum and minimum index values of the output of 7."
      ],
      "metadata": {
        "id": "L_YXdTU1HH95"
      }
    },
    {
      "cell_type": "code",
      "source": [
        "dot_product_max_index = torch.argmax(dot_product)\n",
        "dot_product_min_index = torch.argmin(dot_product)\n",
        "print(f\"Max Index -> {dot_product_max_index}, Min Index -> {dot_product_min_index}\")"
      ],
      "metadata": {
        "colab": {
          "base_uri": "https://localhost:8080/"
        },
        "id": "-YcLxAmNHKJS",
        "outputId": "76d51697-3f12-4317-991d-dc315f65fb41"
      },
      "execution_count": 21,
      "outputs": [
        {
          "output_type": "stream",
          "name": "stdout",
          "text": [
            "Max Index -> 3, Min Index -> 1\n"
          ]
        }
      ]
    },
    {
      "cell_type": "markdown",
      "source": [
        "10. Make a random tensor with shape (1, 1, 1, 10) and then create a new tensor with all the 1 dimensions removed to be left with a tensor of shape (10). Set the seed to 7 when you create it and print out the first tensor and it's shape as well as the second tensor and it's shape."
      ],
      "metadata": {
        "id": "NS6LJFc0Hmcf"
      }
    },
    {
      "cell_type": "code",
      "source": [
        "RAND_SEED = 10\n",
        "torch.manual_seed(RAND_SEED)\n",
        "rand_tensor = torch.rand(1,1,1,10)\n",
        "squeezed_rand_tensor = rand_tensor.squeeze()\n",
        "print(f\"Original tensor -> {rand_tensor} with shape -> {rand_tensor.shape}\")\n",
        "print(f\"Modified tensor -> {squeezed_rand_tensor} with shape -> {squeezed_rand_tensor.shape}\")"
      ],
      "metadata": {
        "colab": {
          "base_uri": "https://localhost:8080/"
        },
        "id": "Iug0bwRXHox8",
        "outputId": "0408416a-78d0-4cf8-e9da-6404cf4e58d2"
      },
      "execution_count": 26,
      "outputs": [
        {
          "output_type": "stream",
          "name": "stdout",
          "text": [
            "Original tensor -> tensor([[[[0.4581, 0.4829, 0.3125, 0.6150, 0.2139, 0.4118, 0.6938, 0.9693,\n",
            "           0.6178, 0.3304]]]]) with shape -> torch.Size([1, 1, 1, 10])\n",
            "Modified tensor -> tensor([0.4581, 0.4829, 0.3125, 0.6150, 0.2139, 0.4118, 0.6938, 0.9693, 0.6178,\n",
            "        0.3304]) with shape -> torch.Size([10])\n"
          ]
        }
      ]
    },
    {
      "cell_type": "markdown",
      "source": [
        "good refresher of scalars, vectors, matrices here https://www.youtube.com/watch?v=f5liqUk0ZTw"
      ],
      "metadata": {
        "id": "HLIL6w4QMYdV"
      }
    }
  ]
}