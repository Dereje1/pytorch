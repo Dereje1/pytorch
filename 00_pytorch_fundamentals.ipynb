{
  "nbformat": 4,
  "nbformat_minor": 0,
  "metadata": {
    "colab": {
      "provenance": [],
      "gpuType": "T4",
      "authorship_tag": "ABX9TyMrxPJo8fjiWeEpgm5wAjqp",
      "include_colab_link": true
    },
    "kernelspec": {
      "name": "python3",
      "display_name": "Python 3"
    },
    "language_info": {
      "name": "python"
    }
  },
  "cells": [
    {
      "cell_type": "markdown",
      "metadata": {
        "id": "view-in-github",
        "colab_type": "text"
      },
      "source": [
        "<a href=\"https://colab.research.google.com/github/Dereje1/pytorch/blob/main/00_pytorch_fundamentals.ipynb\" target=\"_parent\"><img src=\"https://colab.research.google.com/assets/colab-badge.svg\" alt=\"Open In Colab\"/></a>"
      ]
    },
    {
      "cell_type": "code",
      "execution_count": 1,
      "metadata": {
        "colab": {
          "base_uri": "https://localhost:8080/"
        },
        "id": "SNZLGUnXcDAB",
        "outputId": "78b4d24c-f931-4fe5-c339-95560b2c8d3a"
      },
      "outputs": [
        {
          "output_type": "stream",
          "name": "stdout",
          "text": [
            "2.0.1+cu118\n"
          ]
        }
      ],
      "source": [
        "import torch\n",
        "import pandas as pd\n",
        "import numpy as np\n",
        "import matplotlib.pyplot as plt\n",
        "print(torch.__version__)"
      ]
    },
    {
      "cell_type": "markdown",
      "source": [
        "Introduction to Tensors\n",
        "\n",
        "Creating tensors\n",
        "\n",
        "Pytorch tensors are created with torch.tensor() -> reference -> https://pytorch.org/docs/stable/tensors.html"
      ],
      "metadata": {
        "id": "hXPFuU-Lhprp"
      }
    },
    {
      "cell_type": "markdown",
      "source": [
        "## Understanding Scalars, vectors, matrices and tensors"
      ],
      "metadata": {
        "id": "S4i1pwaDzdKQ"
      }
    },
    {
      "cell_type": "code",
      "source": [
        "#scalar\n",
        "scalar = torch.tensor(7)\n",
        "print(f\"scalar = { scalar } \\nndim -> {scalar.ndim} shape -> {scalar.shape} item -> {scalar.item()}\")"
      ],
      "metadata": {
        "colab": {
          "base_uri": "https://localhost:8080/"
        },
        "id": "Jj8tS3kFh5AN",
        "outputId": "73c3d72b-c88b-48f9-9cf0-30957d3c0054"
      },
      "execution_count": 2,
      "outputs": [
        {
          "output_type": "stream",
          "name": "stdout",
          "text": [
            "scalar = 7 \n",
            "ndim -> 0 shape -> torch.Size([]) item -> 7\n"
          ]
        }
      ]
    },
    {
      "cell_type": "code",
      "source": [
        "## Vector\n",
        "vector = torch.tensor([7,7])\n",
        "print(f\"Vector = { vector } \\nndim -> {vector.ndim} shape -> {vector.shape}\")"
      ],
      "metadata": {
        "colab": {
          "base_uri": "https://localhost:8080/"
        },
        "id": "fl09UcSDkCzU",
        "outputId": "3b0907b1-eb61-4bee-8c92-e23de171ae9b"
      },
      "execution_count": 3,
      "outputs": [
        {
          "output_type": "stream",
          "name": "stdout",
          "text": [
            "Vector = tensor([7, 7]) \n",
            "ndim -> 1 shape -> torch.Size([2])\n"
          ]
        }
      ]
    },
    {
      "cell_type": "code",
      "source": [
        "## MATRIX\n",
        "MATRIX = torch.tensor([[7,8], [9,10]])\n",
        "print(f\"Matrix = { MATRIX } \\nndim -> {MATRIX.ndim} shape -> {MATRIX.shape}\")"
      ],
      "metadata": {
        "colab": {
          "base_uri": "https://localhost:8080/"
        },
        "id": "Y8miIdLwkXMi",
        "outputId": "51e40f8d-d693-47be-c503-ea21449fbf4e"
      },
      "execution_count": 4,
      "outputs": [
        {
          "output_type": "stream",
          "name": "stdout",
          "text": [
            "Matrix = tensor([[ 7,  8],\n",
            "        [ 9, 10]]) \n",
            "ndim -> 2 shape -> torch.Size([2, 2])\n"
          ]
        }
      ]
    },
    {
      "cell_type": "markdown",
      "source": [
        "The torch.size indicates the shape of a tensor, and describes the number of elements along each dimension. In the case of a tensor t with shape (2, 4, 3) as below, it means that the tensor has 3 dimensions, with the first dimension having a size of 2, the second dimension having a size of 4, and the third dimension having a size of 3. In other words, the tensor has 2 rows, each row has 4 columns, and each column has 3 elements. The total number of elements in the tensor is the product of the sizes of all dimensions, which in this case is 2 * 4 * 3 = 24\n",
        "\n",
        "So maybe one way to think of 3 dimensions is as a cube with height (2), width (4) and depth (3)... but any more additional dims will be hard to mentally picture"
      ],
      "metadata": {
        "id": "Q-bAHnXCCNDn"
      }
    },
    {
      "cell_type": "code",
      "source": [
        "## TENSOR\n",
        "TENSOR = torch.tensor([\n",
        "    [\n",
        "        [1,2,3],\n",
        "        [4,5,6],\n",
        "        [7,8,9],\n",
        "        [10,11,12]\n",
        "    ],\n",
        "    [\n",
        "        [11,21,31],\n",
        "        [41,51,61],\n",
        "        [71,81,91],\n",
        "        [101,111,121]\n",
        "    ]\n",
        "    ])\n",
        "print(f\"Tensor = { TENSOR } \\nndim -> {TENSOR.ndim} shape -> {TENSOR.shape} totalElements -> {TENSOR.numel()}\")"
      ],
      "metadata": {
        "colab": {
          "base_uri": "https://localhost:8080/"
        },
        "id": "l9FADd-wl7vT",
        "outputId": "4ace8f82-ecb8-44e0-a609-f60de9b0981c"
      },
      "execution_count": 5,
      "outputs": [
        {
          "output_type": "stream",
          "name": "stdout",
          "text": [
            "Tensor = tensor([[[  1,   2,   3],\n",
            "         [  4,   5,   6],\n",
            "         [  7,   8,   9],\n",
            "         [ 10,  11,  12]],\n",
            "\n",
            "        [[ 11,  21,  31],\n",
            "         [ 41,  51,  61],\n",
            "         [ 71,  81,  91],\n",
            "         [101, 111, 121]]]) \n",
            "ndim -> 3 shape -> torch.Size([2, 4, 3]) totalElements -> 24\n"
          ]
        }
      ]
    },
    {
      "cell_type": "markdown",
      "source": [
        "## Random Tensors\n",
        "\n",
        "Why Random tensors ?\n",
        "\n",
        "Random tensors are important since the way many nueral networks learn is by starting with a matix of random numbers and then iterate over those numbers to fit the data\n",
        "\n",
        "`Start with random numbers -> look at data -> update random numbers -> look at data -> update random numbers`"
      ],
      "metadata": {
        "id": "vHB0Rel0p3lm"
      }
    },
    {
      "cell_type": "code",
      "source": [
        "## Create random tensors with pytorch of size (3,4)\n",
        "random_tensor = torch.rand(3,4)\n",
        "random_tensor"
      ],
      "metadata": {
        "colab": {
          "base_uri": "https://localhost:8080/"
        },
        "id": "AI4Z7rRZqPVr",
        "outputId": "aa296ec7-6197-4657-dc50-00d1619e823c"
      },
      "execution_count": 6,
      "outputs": [
        {
          "output_type": "execute_result",
          "data": {
            "text/plain": [
              "tensor([[0.7960, 0.8682, 0.8200, 0.8467],\n",
              "        [0.1953, 0.9351, 0.2288, 0.5013],\n",
              "        [0.6399, 0.1773, 0.6210, 0.7300]])"
            ]
          },
          "metadata": {},
          "execution_count": 6
        }
      ]
    },
    {
      "cell_type": "code",
      "source": [
        "## Create a random tensor with a similar shape to an image tensor\n",
        "random_image_size_tensor = torch.rand(size=(224,224,3)) #Height, width, color channel (R,G,B)\n",
        "random_image_size_tensor"
      ],
      "metadata": {
        "colab": {
          "base_uri": "https://localhost:8080/"
        },
        "id": "6-uv6vZArhk9",
        "outputId": "e9f186bf-cb36-490c-edd6-39bfd7765fc0"
      },
      "execution_count": 7,
      "outputs": [
        {
          "output_type": "execute_result",
          "data": {
            "text/plain": [
              "tensor([[[0.2458, 0.8878, 0.7328],\n",
              "         [0.1752, 0.3993, 0.2507],\n",
              "         [0.9838, 0.3927, 0.6350],\n",
              "         ...,\n",
              "         [0.2627, 0.5001, 0.4313],\n",
              "         [0.1839, 0.1909, 0.2311],\n",
              "         [0.9612, 0.7273, 0.8706]],\n",
              "\n",
              "        [[0.9192, 0.3122, 0.7678],\n",
              "         [0.7934, 0.4255, 0.7035],\n",
              "         [0.3381, 0.8226, 0.9669],\n",
              "         ...,\n",
              "         [0.2553, 0.0768, 0.8582],\n",
              "         [0.7263, 0.4204, 0.3565],\n",
              "         [0.7815, 0.5095, 0.2147]],\n",
              "\n",
              "        [[0.3982, 0.1567, 0.5307],\n",
              "         [0.9395, 0.5204, 0.9948],\n",
              "         [0.5618, 0.3578, 0.1681],\n",
              "         ...,\n",
              "         [0.2295, 0.9426, 0.2404],\n",
              "         [0.3643, 0.6826, 0.1540],\n",
              "         [0.5064, 0.4540, 0.0720]],\n",
              "\n",
              "        ...,\n",
              "\n",
              "        [[0.1040, 0.2384, 0.5649],\n",
              "         [0.4340, 0.0021, 0.1315],\n",
              "         [0.2439, 0.7396, 0.0578],\n",
              "         ...,\n",
              "         [0.5651, 0.2790, 0.7116],\n",
              "         [0.6106, 0.0576, 0.0555],\n",
              "         [0.3293, 0.1881, 0.1770]],\n",
              "\n",
              "        [[0.6056, 0.1359, 0.6949],\n",
              "         [0.6947, 0.5204, 0.7414],\n",
              "         [0.4342, 0.3965, 0.8890],\n",
              "         ...,\n",
              "         [0.6004, 0.6103, 0.9450],\n",
              "         [0.0663, 0.4700, 0.2070],\n",
              "         [0.2005, 0.0768, 0.7672]],\n",
              "\n",
              "        [[0.7940, 0.8745, 0.2624],\n",
              "         [0.2573, 0.8629, 0.9933],\n",
              "         [0.7180, 0.7413, 0.1530],\n",
              "         ...,\n",
              "         [0.2735, 0.4836, 0.5579],\n",
              "         [0.5025, 0.0088, 0.2575],\n",
              "         [0.2308, 0.1088, 0.0144]]])"
            ]
          },
          "metadata": {},
          "execution_count": 7
        }
      ]
    },
    {
      "cell_type": "code",
      "source": [
        "random_image_size_tensor.shape, random_image_size_tensor.ndim"
      ],
      "metadata": {
        "colab": {
          "base_uri": "https://localhost:8080/"
        },
        "id": "jbmsUzmntC-I",
        "outputId": "5566521b-28f7-469a-ba43-14b14ada9f0f"
      },
      "execution_count": 8,
      "outputs": [
        {
          "output_type": "execute_result",
          "data": {
            "text/plain": [
              "(torch.Size([224, 224, 3]), 3)"
            ]
          },
          "metadata": {},
          "execution_count": 8
        }
      ]
    },
    {
      "cell_type": "markdown",
      "source": [
        "## Zeros and ones"
      ],
      "metadata": {
        "id": "nPf-xer4tNvh"
      }
    },
    {
      "cell_type": "code",
      "source": [
        "## Create a tensor of all zeroes and ones\n",
        "zeroes = torch.zeros(3,4)\n",
        "ones=torch.ones(3,4)\n",
        "zeroes\n",
        "ones"
      ],
      "metadata": {
        "colab": {
          "base_uri": "https://localhost:8080/"
        },
        "id": "S6cMQa4Dulj3",
        "outputId": "db0858cb-b7eb-4314-f276-9a12c1a0d7fa"
      },
      "execution_count": 9,
      "outputs": [
        {
          "output_type": "execute_result",
          "data": {
            "text/plain": [
              "tensor([[1., 1., 1., 1.],\n",
              "        [1., 1., 1., 1.],\n",
              "        [1., 1., 1., 1.]])"
            ]
          },
          "metadata": {},
          "execution_count": 9
        }
      ]
    },
    {
      "cell_type": "code",
      "source": [
        "zeroes.dtype"
      ],
      "metadata": {
        "colab": {
          "base_uri": "https://localhost:8080/"
        },
        "id": "uOQ-HxDtuxHx",
        "outputId": "aa03ace2-740e-422f-8fd5-cc4330dff827"
      },
      "execution_count": 10,
      "outputs": [
        {
          "output_type": "execute_result",
          "data": {
            "text/plain": [
              "torch.float32"
            ]
          },
          "metadata": {},
          "execution_count": 10
        }
      ]
    },
    {
      "cell_type": "markdown",
      "source": [
        "## creating a range of tensors and tensors-like"
      ],
      "metadata": {
        "id": "amaFV8tZwgBX"
      }
    },
    {
      "cell_type": "code",
      "source": [
        "one_to_ten = torch.arange(1, 11, 1) # third arg is step\n",
        "one_to_ten"
      ],
      "metadata": {
        "colab": {
          "base_uri": "https://localhost:8080/"
        },
        "id": "SdPuO4Ppu3q5",
        "outputId": "4f7caee5-ec30-4313-a928-d5d502880885"
      },
      "execution_count": 11,
      "outputs": [
        {
          "output_type": "execute_result",
          "data": {
            "text/plain": [
              "tensor([ 1,  2,  3,  4,  5,  6,  7,  8,  9, 10])"
            ]
          },
          "metadata": {},
          "execution_count": 11
        }
      ]
    },
    {
      "cell_type": "code",
      "source": [
        "## Creating tensors like\n",
        "ten_zeroes = torch.zeros_like(one_to_ten)\n",
        "ten_zeroes"
      ],
      "metadata": {
        "colab": {
          "base_uri": "https://localhost:8080/"
        },
        "id": "k2ntrdCFv7Y2",
        "outputId": "5d421ae5-b6d9-46b4-af34-1d07edd1b7b0"
      },
      "execution_count": 12,
      "outputs": [
        {
          "output_type": "execute_result",
          "data": {
            "text/plain": [
              "tensor([0, 0, 0, 0, 0, 0, 0, 0, 0, 0])"
            ]
          },
          "metadata": {},
          "execution_count": 12
        }
      ]
    },
    {
      "cell_type": "markdown",
      "source": [
        "## Tensor Datatypes"
      ],
      "metadata": {
        "id": "TQ1lZX6ZxCgE"
      }
    },
    {
      "cell_type": "code",
      "source": [
        "#Float 32 Tensor\n",
        "float_32_tensor = torch.tensor([1.0,2.0,3.0],\n",
        "                               dtype=None, # what datatype the tensor is default is float32 -> adjust precision with memory/perf tradeoff\n",
        "                               device=None, # default is 'cpu', the device the tensor is on\n",
        "                               requires_grad=False) # track 'gradients' (or not)\n",
        "float_16_tensor = torch.tensor([1.0,2.0,3.0],\n",
        "                               dtype=torch.float16)\n",
        "\n",
        "float_32_tensor.dtype\n"
      ],
      "metadata": {
        "colab": {
          "base_uri": "https://localhost:8080/"
        },
        "id": "rLfmaHe-0lpN",
        "outputId": "8382cfc9-0dda-44f2-c569-0632f8446739"
      },
      "execution_count": 13,
      "outputs": [
        {
          "output_type": "execute_result",
          "data": {
            "text/plain": [
              "torch.float32"
            ]
          },
          "metadata": {},
          "execution_count": 13
        }
      ]
    },
    {
      "cell_type": "code",
      "source": [
        "float_16_tensor * float_32_tensor"
      ],
      "metadata": {
        "colab": {
          "base_uri": "https://localhost:8080/"
        },
        "id": "Urx83HQH3Mja",
        "outputId": "f53dbcb2-7747-4e7c-827c-be586b1f73da"
      },
      "execution_count": 14,
      "outputs": [
        {
          "output_type": "execute_result",
          "data": {
            "text/plain": [
              "tensor([1., 4., 9.])"
            ]
          },
          "metadata": {},
          "execution_count": 14
        }
      ]
    },
    {
      "cell_type": "markdown",
      "source": [
        "### Getting Information from tensors\n",
        "\n",
        "\n",
        "\n",
        "1.   Tensors not the right data type - get data type `tensor.dtype`\n",
        "2.   Tensors not the right shape - get shape `tensor.shape`\n",
        "3.   Tensors not the right device - get shape `tensor.device`\n",
        "\n",
        "\n"
      ],
      "metadata": {
        "id": "gkHAOGNq-B_R"
      }
    },
    {
      "cell_type": "code",
      "source": [
        "# create a tensor\n",
        "some_Tensor = torch.rand(3,4)\n",
        "some_Tensor"
      ],
      "metadata": {
        "colab": {
          "base_uri": "https://localhost:8080/"
        },
        "id": "sivnwEau_5ZG",
        "outputId": "5799b578-a026-4f91-852a-de049e7fd198"
      },
      "execution_count": 15,
      "outputs": [
        {
          "output_type": "execute_result",
          "data": {
            "text/plain": [
              "tensor([[0.1759, 0.5392, 0.6181, 0.5256],\n",
              "        [0.3218, 0.2958, 0.1035, 0.4166],\n",
              "        [0.9827, 0.4059, 0.2857, 0.7792]])"
            ]
          },
          "metadata": {},
          "execution_count": 15
        }
      ]
    },
    {
      "cell_type": "code",
      "source": [
        "# Find out details of a tensor\n",
        "some_Tensor = some_Tensor.to(torch.float64)\n",
        "print(some_Tensor)\n",
        "print(f\"Data type of tensor: {some_Tensor.dtype}\")\n",
        "print(f\"Shape of tensor: {some_Tensor.shape}\")\n",
        "print(f\"Device of tensor: {some_Tensor.device}\")"
      ],
      "metadata": {
        "colab": {
          "base_uri": "https://localhost:8080/"
        },
        "id": "7IvSWiefAQjC",
        "outputId": "fc9163fe-7f9c-4e38-dccc-2e6f5f1213c5"
      },
      "execution_count": 16,
      "outputs": [
        {
          "output_type": "stream",
          "name": "stdout",
          "text": [
            "tensor([[0.1759, 0.5392, 0.6181, 0.5256],\n",
            "        [0.3218, 0.2958, 0.1035, 0.4166],\n",
            "        [0.9827, 0.4059, 0.2857, 0.7792]], dtype=torch.float64)\n",
            "Data type of tensor: torch.float64\n",
            "Shape of tensor: torch.Size([3, 4])\n",
            "Device of tensor: cpu\n"
          ]
        }
      ]
    },
    {
      "cell_type": "markdown",
      "source": [
        "## Manipulating tensors (tensor operations)\n",
        "Addition\n",
        "\n",
        "* Addition\n",
        "* Substraction\n",
        "* Multiplication (element-wise)\n",
        "* Division\n",
        "* Matrix multiplication"
      ],
      "metadata": {
        "id": "1PTf9UtWFGU0"
      }
    },
    {
      "cell_type": "code",
      "source": [
        "# Addition\n",
        "tensor = torch.tensor([1,2,3])\n",
        "print(tensor + 15)\n",
        "# Subtract\n",
        "print(tensor -10)\n",
        "# Multiply\n",
        "print(tensor * 10)\n",
        "# divide\n",
        "print(tensor/2)\n",
        "# matrix multiply (dot product)\n",
        "matrix_to_multiply = torch.tensor([[1],[2],[3]])\n",
        "torch.matmul(tensor, matrix_to_multiply) # (1*1 + 2*2 + 3*3)"
      ],
      "metadata": {
        "colab": {
          "base_uri": "https://localhost:8080/"
        },
        "id": "jqGwmXsMFw9D",
        "outputId": "fec870a1-9b86-40cd-8bd8-86dc25101c9c"
      },
      "execution_count": 17,
      "outputs": [
        {
          "output_type": "stream",
          "name": "stdout",
          "text": [
            "tensor([16, 17, 18])\n",
            "tensor([-9, -8, -7])\n",
            "tensor([10, 20, 30])\n",
            "tensor([0.5000, 1.0000, 1.5000])\n"
          ]
        },
        {
          "output_type": "execute_result",
          "data": {
            "text/plain": [
              "tensor([14])"
            ]
          },
          "metadata": {},
          "execution_count": 17
        }
      ]
    },
    {
      "cell_type": "code",
      "source": [
        "## example of dot product from here https://www.mathsisfun.com/algebra/matrix-multiplying.html but using pytorch\n",
        "a = torch.tensor([[1,2,3],[4,5,6]])\n",
        "b = torch.tensor([[7,8],[9,10],[11,12]])\n",
        "torch.matmul(a,b)\n",
        "## note that matmul is way faster than using a traditional for loop\n",
        "## as in any dot product calculation number of rows of a == number columns of b"
      ],
      "metadata": {
        "colab": {
          "base_uri": "https://localhost:8080/"
        },
        "id": "SLp08UG1JyMM",
        "outputId": "6eb3fcbc-81ad-498c-de3f-febc2ce8395d"
      },
      "execution_count": 18,
      "outputs": [
        {
          "output_type": "execute_result",
          "data": {
            "text/plain": [
              "tensor([[ 58,  64],\n",
              "        [139, 154]])"
            ]
          },
          "metadata": {},
          "execution_count": 18
        }
      ]
    },
    {
      "cell_type": "markdown",
      "source": [
        "## Transposing tensors"
      ],
      "metadata": {
        "id": "XrxCo8B9P2no"
      }
    },
    {
      "cell_type": "code",
      "source": [
        "## Transpose\n",
        "tensor = torch.tensor([[1,2,3]])\n",
        "print(f\"Original Tensor -> {tensor}, size -> {tensor.shape}\")\n",
        "transposed_Tensor = tensor.T\n",
        "print(f\"Transposed Tensor -> {transposed_Tensor}, size -> {transposed_Tensor.shape}\")"
      ],
      "metadata": {
        "colab": {
          "base_uri": "https://localhost:8080/"
        },
        "id": "SP4nOO-_J6N8",
        "outputId": "6a93083e-5a42-422c-b15e-6939995742a2"
      },
      "execution_count": 19,
      "outputs": [
        {
          "output_type": "stream",
          "name": "stdout",
          "text": [
            "Original Tensor -> tensor([[1, 2, 3]]), size -> torch.Size([1, 3])\n",
            "Transposed Tensor -> tensor([[1],\n",
            "        [2],\n",
            "        [3]]), size -> torch.Size([3, 1])\n"
          ]
        }
      ]
    },
    {
      "cell_type": "markdown",
      "source": [
        "## Aggregations (min, max, sum ...)"
      ],
      "metadata": {
        "id": "NFaFzce9W7Vc"
      }
    },
    {
      "cell_type": "code",
      "source": [
        "## create tensor\n",
        "x = torch.arange(0, 100, 10)\n",
        "print(x)\n",
        "x_min = torch.min(x) # or you can just use x.min() ...ditto for the rest\n",
        "x_min_position = torch.argmin(x)\n",
        "x_max = torch.max(x)\n",
        "x_max_position = torch.argmax(x)\n",
        "x_mean = torch.mean(x.to(torch.float64)) # note here that mean can not work on integers\n",
        "x_total = torch.sum(x)\n",
        "print(f\"min -> {x_min}, position -> {x_min_position}, \\nmax -> {x_max}, position -> {x_max_position}, \\nave -> {x_mean}, \\ntotal -> {x_total}\")"
      ],
      "metadata": {
        "colab": {
          "base_uri": "https://localhost:8080/"
        },
        "id": "g1VTZVR8XBpQ",
        "outputId": "49104ce3-59dd-433a-e802-8a23b5e33dd7"
      },
      "execution_count": 20,
      "outputs": [
        {
          "output_type": "stream",
          "name": "stdout",
          "text": [
            "tensor([ 0, 10, 20, 30, 40, 50, 60, 70, 80, 90])\n",
            "min -> 0, position -> 0, \n",
            "max -> 90, position -> 9, \n",
            "ave -> 45.0, \n",
            "total -> 450\n"
          ]
        }
      ]
    },
    {
      "cell_type": "markdown",
      "source": [
        "## Reshaping, stacking, squeezing and unsqueezing tensors\n",
        "\n",
        "\n",
        "\n",
        "*   Reshaping - given an input tensor, change to defined shape\n",
        "*   View - Returns a view of the original tensor in a different shape but shares the same data as the original tensor.\n",
        "* Stacking - Concatenates a sequence of tensors along a new dimension (dim), all tensors must be same size.\n",
        "* Squeeze - Squeezes input to remove all the dimenions with value 1.\n",
        "* UnSqueeze - Returns input with a dimension value of 1 added at dim.\n",
        "* Permute - Returns a view of the original input with its dimensions permuted (rearranged) to dims\n",
        "\n"
      ],
      "metadata": {
        "id": "Dqx7eFzTKYlU"
      }
    },
    {
      "cell_type": "code",
      "source": [
        "## Reshaping - add an extra dimension\n",
        "x = torch.arange(1,10)\n",
        "print(x, x.shape)\n",
        "## note that new dimensions must be congruent with the shape we want to change or will error, TODO: play around with this\n",
        "x_reshaped = x.reshape(9,1)\n",
        "print(x_reshaped, x_reshaped.shape)\n",
        "x_reshaped = x.reshape(1,9)\n",
        "print(x_reshaped, x_reshaped.shape)"
      ],
      "metadata": {
        "colab": {
          "base_uri": "https://localhost:8080/"
        },
        "id": "mqdPUATMOKuU",
        "outputId": "82586859-ec91-4e9d-a193-d964eb5e0694"
      },
      "execution_count": 21,
      "outputs": [
        {
          "output_type": "stream",
          "name": "stdout",
          "text": [
            "tensor([1, 2, 3, 4, 5, 6, 7, 8, 9]) torch.Size([9])\n",
            "tensor([[1],\n",
            "        [2],\n",
            "        [3],\n",
            "        [4],\n",
            "        [5],\n",
            "        [6],\n",
            "        [7],\n",
            "        [8],\n",
            "        [9]]) torch.Size([9, 1])\n",
            "tensor([[1, 2, 3, 4, 5, 6, 7, 8, 9]]) torch.Size([1, 9])\n"
          ]
        }
      ]
    },
    {
      "cell_type": "code",
      "source": [
        "## Change the view\n",
        "x = torch.arange(1,10)\n",
        "print(x, x.shape)\n",
        "# same as reshape, however this shares the same memory as the original tensor, so if you change z then x will change as well\n",
        "z = x.view(1, 9)\n",
        "print(z, z.shape)\n",
        "## example of the mutation carrying on to the original tensor\n",
        "z[0][3] = 19\n",
        "print(z, z.shape)\n",
        "print(x, x.shape) # <- note here that x changed too!"
      ],
      "metadata": {
        "colab": {
          "base_uri": "https://localhost:8080/"
        },
        "id": "Q6bRIMdjRuBT",
        "outputId": "99f792a7-2cb5-4fae-e621-30e013a7bbae"
      },
      "execution_count": 22,
      "outputs": [
        {
          "output_type": "stream",
          "name": "stdout",
          "text": [
            "tensor([1, 2, 3, 4, 5, 6, 7, 8, 9]) torch.Size([9])\n",
            "tensor([[1, 2, 3, 4, 5, 6, 7, 8, 9]]) torch.Size([1, 9])\n",
            "tensor([[ 1,  2,  3, 19,  5,  6,  7,  8,  9]]) torch.Size([1, 9])\n",
            "tensor([ 1,  2,  3, 19,  5,  6,  7,  8,  9]) torch.Size([9])\n"
          ]
        }
      ]
    },
    {
      "cell_type": "code",
      "source": [
        "## Stack tensors ontop of each other\n",
        "x = torch.arange(1,10)\n",
        "print(x, x.shape)\n",
        "x_stacked = torch.stack([x, x, x], dim=0) # default\n",
        "print(f\"stacked default \\n{x_stacked}, size={x_stacked.shape}\")\n",
        "x_stacked = torch.stack([x, x, x], dim=1)\n",
        "print(f\"stacked dim = 1 \\n{x_stacked}, size={x_stacked.shape}\")"
      ],
      "metadata": {
        "colab": {
          "base_uri": "https://localhost:8080/"
        },
        "id": "O2ht9716SW_T",
        "outputId": "9f4596bb-5145-4a57-b26a-3a3824b6b860"
      },
      "execution_count": 23,
      "outputs": [
        {
          "output_type": "stream",
          "name": "stdout",
          "text": [
            "tensor([1, 2, 3, 4, 5, 6, 7, 8, 9]) torch.Size([9])\n",
            "stacked default \n",
            "tensor([[1, 2, 3, 4, 5, 6, 7, 8, 9],\n",
            "        [1, 2, 3, 4, 5, 6, 7, 8, 9],\n",
            "        [1, 2, 3, 4, 5, 6, 7, 8, 9]]), size=torch.Size([3, 9])\n",
            "stacked dim = 1 \n",
            "tensor([[1, 1, 1],\n",
            "        [2, 2, 2],\n",
            "        [3, 3, 3],\n",
            "        [4, 4, 4],\n",
            "        [5, 5, 5],\n",
            "        [6, 6, 6],\n",
            "        [7, 7, 7],\n",
            "        [8, 8, 8],\n",
            "        [9, 9, 9]]), size=torch.Size([9, 3])\n"
          ]
        }
      ]
    },
    {
      "cell_type": "code",
      "source": [
        "## squeeze - removes all single dimensions from a target tensor\n",
        "print(f\"Original -> {x_reshaped} size -> {x_reshaped.shape}\")\n",
        "squeezed = x_reshaped.squeeze()\n",
        "print(f\"Squeezed -> {squeezed} size -> {squeezed.shape}\")"
      ],
      "metadata": {
        "colab": {
          "base_uri": "https://localhost:8080/"
        },
        "id": "YbJrwuOm58Rb",
        "outputId": "1a68a333-5908-4a86-c3f6-4f71947c4c04"
      },
      "execution_count": 29,
      "outputs": [
        {
          "output_type": "stream",
          "name": "stdout",
          "text": [
            "Original -> tensor([[1, 2, 3, 4, 5, 6, 7, 8, 9]]) size -> torch.Size([1, 9])\n",
            "Squeezed -> tensor([1, 2, 3, 4, 5, 6, 7, 8, 9]) size -> torch.Size([9])\n"
          ]
        }
      ]
    },
    {
      "cell_type": "code",
      "source": [
        "## unsqueeze - adds a single dimensions to a target tensor\n",
        "print(f\"Original -> {squeezed} size -> {squeezed.shape}\")\n",
        "unsqueezed = squeezed.unsqueeze(dim=0)\n",
        "print(f\"Unsqueezed -> {unsqueezed} size -> {unsqueezed.shape}\")"
      ],
      "metadata": {
        "colab": {
          "base_uri": "https://localhost:8080/"
        },
        "id": "GurWcx9j715m",
        "outputId": "a929a886-6d6e-433a-c963-1fa261d9f36d"
      },
      "execution_count": 36,
      "outputs": [
        {
          "output_type": "stream",
          "name": "stdout",
          "text": [
            "Original -> tensor([1, 2, 3, 4, 5, 6, 7, 8, 9]) size -> torch.Size([9])\n",
            "Unsqueezed -> tensor([[1, 2, 3, 4, 5, 6, 7, 8, 9]]) size -> torch.Size([1, 9])\n"
          ]
        }
      ]
    },
    {
      "cell_type": "code",
      "source": [
        "## permute - rearranges the dimensions of a target tensor in a specified order\n",
        "x_original = torch.rand(size=(224,224,3)) #Height, width, color channel (R,G,B)\n",
        "print(f\"original shape -> {x_original.shape}\")\n",
        "\n",
        "## permute the original tensor to reaarange the axis (or dim)\n",
        "## say you want to permute to color channels, Height, width\n",
        "x_permuted = x_original.permute(2,0,1) #where 2 was the orginal dim for the color channel and so forth\n",
        "print(f\"Permuted shape -> {x_permuted.shape}\")"
      ],
      "metadata": {
        "colab": {
          "base_uri": "https://localhost:8080/"
        },
        "id": "AgAJCeLN9PoV",
        "outputId": "35e43742-21af-4d93-d2f8-856005baa39d"
      },
      "execution_count": 41,
      "outputs": [
        {
          "output_type": "stream",
          "name": "stdout",
          "text": [
            "original shape -> torch.Size([224, 224, 3])\n",
            "Permuted shape -> torch.Size([3, 224, 224])\n"
          ]
        }
      ]
    },
    {
      "cell_type": "markdown",
      "source": [
        "## Indexing (selecting data in tensors)\n",
        "\n",
        "Indexing in pyTorch is similar to Numpy"
      ],
      "metadata": {
        "id": "khcaunt-_rth"
      }
    }
  ]
}