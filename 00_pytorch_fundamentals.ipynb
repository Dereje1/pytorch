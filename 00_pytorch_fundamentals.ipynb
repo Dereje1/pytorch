{
  "nbformat": 4,
  "nbformat_minor": 0,
  "metadata": {
    "colab": {
      "provenance": [],
      "gpuType": "T4",
      "authorship_tag": "ABX9TyMnMJ61EqaYpfS5GkA5/Uur",
      "include_colab_link": true
    },
    "kernelspec": {
      "name": "python3",
      "display_name": "Python 3"
    },
    "language_info": {
      "name": "python"
    }
  },
  "cells": [
    {
      "cell_type": "markdown",
      "metadata": {
        "id": "view-in-github",
        "colab_type": "text"
      },
      "source": [
        "<a href=\"https://colab.research.google.com/github/Dereje1/pytorch/blob/main/00_pytorch_fundamentals.ipynb\" target=\"_parent\"><img src=\"https://colab.research.google.com/assets/colab-badge.svg\" alt=\"Open In Colab\"/></a>"
      ]
    },
    {
      "cell_type": "code",
      "execution_count": 1,
      "metadata": {
        "colab": {
          "base_uri": "https://localhost:8080/"
        },
        "id": "SNZLGUnXcDAB",
        "outputId": "91adf7b7-7e58-48ea-b9f3-2dfcaa38822e"
      },
      "outputs": [
        {
          "output_type": "stream",
          "name": "stdout",
          "text": [
            "2.0.1+cu118\n"
          ]
        }
      ],
      "source": [
        "import torch\n",
        "import pandas as pd\n",
        "import numpy as np\n",
        "import matplotlib.pyplot as plt\n",
        "print(torch.__version__)"
      ]
    },
    {
      "cell_type": "markdown",
      "source": [
        "Introduction to Tensors\n",
        "\n",
        "Creating tensors\n",
        "\n",
        "Pytorch tensors are created with torch.tensor() -> reference -> https://pytorch.org/docs/stable/tensors.html"
      ],
      "metadata": {
        "id": "hXPFuU-Lhprp"
      }
    },
    {
      "cell_type": "markdown",
      "source": [
        "## Understanding Scalars, vectors, matrices and tensors"
      ],
      "metadata": {
        "id": "S4i1pwaDzdKQ"
      }
    },
    {
      "cell_type": "code",
      "source": [
        "#scalar\n",
        "scalar = torch.tensor(7)\n",
        "print(f\"scalar = { scalar } \\nndim -> {scalar.ndim} shape -> {scalar.shape} item -> {scalar.item()}\")"
      ],
      "metadata": {
        "colab": {
          "base_uri": "https://localhost:8080/"
        },
        "id": "Jj8tS3kFh5AN",
        "outputId": "a67afa39-f765-42d2-c51e-4c33be9cccda"
      },
      "execution_count": 2,
      "outputs": [
        {
          "output_type": "stream",
          "name": "stdout",
          "text": [
            "scalar = 7 \n",
            "ndim -> 0 shape -> torch.Size([]) item -> 7\n"
          ]
        }
      ]
    },
    {
      "cell_type": "code",
      "source": [
        "## Vector\n",
        "vector = torch.tensor([7,7])\n",
        "print(f\"Vector = { vector } \\nndim -> {vector.ndim} shape -> {vector.shape}\")"
      ],
      "metadata": {
        "colab": {
          "base_uri": "https://localhost:8080/"
        },
        "id": "fl09UcSDkCzU",
        "outputId": "af153889-822c-4a5a-eaa0-271457f18c71"
      },
      "execution_count": 3,
      "outputs": [
        {
          "output_type": "stream",
          "name": "stdout",
          "text": [
            "Vector = tensor([7, 7]) \n",
            "ndim -> 1 shape -> torch.Size([2])\n"
          ]
        }
      ]
    },
    {
      "cell_type": "code",
      "source": [
        "## MATRIX\n",
        "MATRIX = torch.tensor([[7,8], [9,10]])\n",
        "print(f\"Matrix = { MATRIX } \\nndim -> {MATRIX.ndim} shape -> {MATRIX.shape}\")"
      ],
      "metadata": {
        "colab": {
          "base_uri": "https://localhost:8080/"
        },
        "id": "Y8miIdLwkXMi",
        "outputId": "e8b706db-ee0e-4702-86bc-4061a239104b"
      },
      "execution_count": 4,
      "outputs": [
        {
          "output_type": "stream",
          "name": "stdout",
          "text": [
            "Matrix = tensor([[ 7,  8],\n",
            "        [ 9, 10]]) \n",
            "ndim -> 2 shape -> torch.Size([2, 2])\n"
          ]
        }
      ]
    },
    {
      "cell_type": "markdown",
      "source": [
        "The torch.size indicates the shape of a tensor, and describes the number of elements along each dimension. In the case of a tensor t with shape (2, 4, 3) as below, it means that the tensor has 3 dimensions, with the first dimension having a size of 2, the second dimension having a size of 4, and the third dimension having a size of 3. In other words, the tensor has 2 rows, each row has 4 columns, and each column has 3 elements. The total number of elements in the tensor is the product of the sizes of all dimensions, which in this case is 2 * 4 * 3 = 24\n",
        "\n",
        "So maybe one way to think of 3 dimensions is as a cube with height (2), width (4) and depth (3)... but any more additional dims will be hard to mentally picture"
      ],
      "metadata": {
        "id": "Q-bAHnXCCNDn"
      }
    },
    {
      "cell_type": "code",
      "source": [
        "## TENSOR\n",
        "TENSOR = torch.tensor([\n",
        "    [\n",
        "        [1,2,3],\n",
        "        [4,5,6],\n",
        "        [7,8,9],\n",
        "        [10,11,12]\n",
        "    ],\n",
        "    [\n",
        "        [11,21,31],\n",
        "        [41,51,61],\n",
        "        [71,81,91],\n",
        "        [101,111,121]\n",
        "    ]\n",
        "    ])\n",
        "print(f\"Tensor = { TENSOR } \\nndim -> {TENSOR.ndim} shape -> {TENSOR.shape} totalElements -> {TENSOR.numel()}\")"
      ],
      "metadata": {
        "colab": {
          "base_uri": "https://localhost:8080/"
        },
        "id": "l9FADd-wl7vT",
        "outputId": "0a8323a6-e35e-4271-98d1-a0d2c395fe1e"
      },
      "execution_count": 5,
      "outputs": [
        {
          "output_type": "stream",
          "name": "stdout",
          "text": [
            "Tensor = tensor([[[  1,   2,   3],\n",
            "         [  4,   5,   6],\n",
            "         [  7,   8,   9],\n",
            "         [ 10,  11,  12]],\n",
            "\n",
            "        [[ 11,  21,  31],\n",
            "         [ 41,  51,  61],\n",
            "         [ 71,  81,  91],\n",
            "         [101, 111, 121]]]) \n",
            "ndim -> 3 shape -> torch.Size([2, 4, 3]) totalElements -> 24\n"
          ]
        }
      ]
    },
    {
      "cell_type": "markdown",
      "source": [
        "## Random Tensors\n",
        "\n",
        "Why Random tensors ?\n",
        "\n",
        "Random tensors are important since the way many nueral networks learn is by starting with a matix of random numbers and then iterate over those numbers to fit the data\n",
        "\n",
        "`Start with random numbers -> look at data -> update random numbers -> look at data -> update random numbers`"
      ],
      "metadata": {
        "id": "vHB0Rel0p3lm"
      }
    },
    {
      "cell_type": "code",
      "source": [
        "## Create random tensors with pytorch of size (3,4)\n",
        "random_tensor = torch.rand(3,4)\n",
        "random_tensor"
      ],
      "metadata": {
        "colab": {
          "base_uri": "https://localhost:8080/"
        },
        "id": "AI4Z7rRZqPVr",
        "outputId": "5192ef13-82b2-4209-d697-dae72680d9fb"
      },
      "execution_count": 6,
      "outputs": [
        {
          "output_type": "execute_result",
          "data": {
            "text/plain": [
              "tensor([[0.0380, 0.6816, 0.7677, 0.2371],\n",
              "        [0.3035, 0.8352, 0.5477, 0.7864],\n",
              "        [0.2377, 0.8876, 0.0999, 0.6139]])"
            ]
          },
          "metadata": {},
          "execution_count": 6
        }
      ]
    },
    {
      "cell_type": "code",
      "source": [
        "## Create a random tensor with a similar shape to an image tensor\n",
        "random_image_size_tensor = torch.rand(size=(224,224,3)) #Height, width, color channel (R,G,B)\n",
        "random_image_size_tensor"
      ],
      "metadata": {
        "colab": {
          "base_uri": "https://localhost:8080/"
        },
        "id": "6-uv6vZArhk9",
        "outputId": "a95328d4-3e66-4918-e2f7-ac2a9cea07c3"
      },
      "execution_count": 7,
      "outputs": [
        {
          "output_type": "execute_result",
          "data": {
            "text/plain": [
              "tensor([[[0.3769, 0.2870, 0.7550],\n",
              "         [0.6447, 0.9894, 0.1389],\n",
              "         [0.6810, 0.0209, 0.0268],\n",
              "         ...,\n",
              "         [0.6239, 0.1110, 0.5327],\n",
              "         [0.1452, 0.8303, 0.7350],\n",
              "         [0.0607, 0.0803, 0.8662]],\n",
              "\n",
              "        [[0.0489, 0.5573, 0.5724],\n",
              "         [0.6695, 0.2984, 0.4482],\n",
              "         [0.3546, 0.3733, 0.4549],\n",
              "         ...,\n",
              "         [0.6207, 0.1141, 0.0080],\n",
              "         [0.4985, 0.0222, 0.2929],\n",
              "         [0.0992, 0.1858, 0.9112]],\n",
              "\n",
              "        [[0.7332, 0.4798, 0.4842],\n",
              "         [0.8212, 0.0051, 0.1345],\n",
              "         [0.3149, 0.4148, 0.8103],\n",
              "         ...,\n",
              "         [0.1112, 0.6681, 0.8620],\n",
              "         [0.6931, 0.1210, 0.5059],\n",
              "         [0.8922, 0.0557, 0.0192]],\n",
              "\n",
              "        ...,\n",
              "\n",
              "        [[0.6936, 0.5569, 0.6055],\n",
              "         [0.7899, 0.0576, 0.4908],\n",
              "         [0.9540, 0.2762, 0.4130],\n",
              "         ...,\n",
              "         [0.4598, 0.4090, 0.6466],\n",
              "         [0.6536, 0.6144, 0.2459],\n",
              "         [0.5586, 0.3532, 0.8807]],\n",
              "\n",
              "        [[0.4233, 0.5614, 0.3225],\n",
              "         [0.6378, 0.6731, 0.9062],\n",
              "         [0.0579, 0.0668, 0.6933],\n",
              "         ...,\n",
              "         [0.1968, 0.9156, 0.3314],\n",
              "         [0.1697, 0.5603, 0.7192],\n",
              "         [0.8829, 0.2901, 0.1390]],\n",
              "\n",
              "        [[0.6168, 0.8151, 0.7214],\n",
              "         [0.1160, 0.1009, 0.2593],\n",
              "         [0.3544, 0.0348, 0.6111],\n",
              "         ...,\n",
              "         [0.6741, 0.0764, 0.6264],\n",
              "         [0.5919, 0.4002, 0.4264],\n",
              "         [0.9553, 0.7133, 0.5956]]])"
            ]
          },
          "metadata": {},
          "execution_count": 7
        }
      ]
    },
    {
      "cell_type": "code",
      "source": [
        "random_image_size_tensor.shape, random_image_size_tensor.ndim"
      ],
      "metadata": {
        "colab": {
          "base_uri": "https://localhost:8080/"
        },
        "id": "jbmsUzmntC-I",
        "outputId": "7fdd8b81-2613-4aef-b612-56cd5cec0f18"
      },
      "execution_count": 8,
      "outputs": [
        {
          "output_type": "execute_result",
          "data": {
            "text/plain": [
              "(torch.Size([224, 224, 3]), 3)"
            ]
          },
          "metadata": {},
          "execution_count": 8
        }
      ]
    },
    {
      "cell_type": "markdown",
      "source": [
        "## Zeros and ones"
      ],
      "metadata": {
        "id": "nPf-xer4tNvh"
      }
    },
    {
      "cell_type": "code",
      "source": [
        "## Create a tensor of all zeroes and ones\n",
        "zeroes = torch.zeros(3,4)\n",
        "ones=torch.ones(3,4)\n",
        "zeroes\n",
        "ones"
      ],
      "metadata": {
        "colab": {
          "base_uri": "https://localhost:8080/"
        },
        "id": "S6cMQa4Dulj3",
        "outputId": "a4cb90af-c8c3-4cf5-d96e-28cdcdf45bff"
      },
      "execution_count": 9,
      "outputs": [
        {
          "output_type": "execute_result",
          "data": {
            "text/plain": [
              "tensor([[1., 1., 1., 1.],\n",
              "        [1., 1., 1., 1.],\n",
              "        [1., 1., 1., 1.]])"
            ]
          },
          "metadata": {},
          "execution_count": 9
        }
      ]
    },
    {
      "cell_type": "code",
      "source": [
        "zeroes.dtype"
      ],
      "metadata": {
        "colab": {
          "base_uri": "https://localhost:8080/"
        },
        "id": "uOQ-HxDtuxHx",
        "outputId": "34842191-aad2-464b-ada1-a66a061e7e85"
      },
      "execution_count": 10,
      "outputs": [
        {
          "output_type": "execute_result",
          "data": {
            "text/plain": [
              "torch.float32"
            ]
          },
          "metadata": {},
          "execution_count": 10
        }
      ]
    },
    {
      "cell_type": "markdown",
      "source": [
        "## creating a range of tensors and tensors-like"
      ],
      "metadata": {
        "id": "amaFV8tZwgBX"
      }
    },
    {
      "cell_type": "code",
      "source": [
        "one_to_ten = torch.arange(1, 11, 1) # third arg is step\n",
        "one_to_ten"
      ],
      "metadata": {
        "colab": {
          "base_uri": "https://localhost:8080/"
        },
        "id": "SdPuO4Ppu3q5",
        "outputId": "1a9bbdbc-f790-47da-b1de-b56bf91c2fa2"
      },
      "execution_count": 11,
      "outputs": [
        {
          "output_type": "execute_result",
          "data": {
            "text/plain": [
              "tensor([ 1,  2,  3,  4,  5,  6,  7,  8,  9, 10])"
            ]
          },
          "metadata": {},
          "execution_count": 11
        }
      ]
    },
    {
      "cell_type": "code",
      "source": [
        "## Creating tensors like\n",
        "ten_zeroes = torch.zeros_like(one_to_ten)\n",
        "ten_zeroes"
      ],
      "metadata": {
        "colab": {
          "base_uri": "https://localhost:8080/"
        },
        "id": "k2ntrdCFv7Y2",
        "outputId": "e79b95d5-3ee0-4a98-ca23-b250e01f1aea"
      },
      "execution_count": 12,
      "outputs": [
        {
          "output_type": "execute_result",
          "data": {
            "text/plain": [
              "tensor([0, 0, 0, 0, 0, 0, 0, 0, 0, 0])"
            ]
          },
          "metadata": {},
          "execution_count": 12
        }
      ]
    },
    {
      "cell_type": "markdown",
      "source": [
        "## Tensor Datatypes"
      ],
      "metadata": {
        "id": "TQ1lZX6ZxCgE"
      }
    },
    {
      "cell_type": "code",
      "source": [
        "#Float 32 Tensor\n",
        "float_32_tensor = torch.tensor([1.0,2.0,3.0],\n",
        "                               dtype=None, # what datatype the tensor is default is float32 -> adjust precision with memory/perf tradeoff\n",
        "                               device=None, # default is 'cpu', the device the tensor is on\n",
        "                               requires_grad=False) # track 'gradients' (or not)\n",
        "float_16_tensor = torch.tensor([1.0,2.0,3.0],\n",
        "                               dtype=torch.float16)\n",
        "\n",
        "float_32_tensor.dtype\n"
      ],
      "metadata": {
        "colab": {
          "base_uri": "https://localhost:8080/"
        },
        "id": "rLfmaHe-0lpN",
        "outputId": "c186dde7-3356-4db7-8fa2-67a89e56fc0e"
      },
      "execution_count": 13,
      "outputs": [
        {
          "output_type": "execute_result",
          "data": {
            "text/plain": [
              "torch.float32"
            ]
          },
          "metadata": {},
          "execution_count": 13
        }
      ]
    },
    {
      "cell_type": "code",
      "source": [
        "float_16_tensor * float_32_tensor"
      ],
      "metadata": {
        "colab": {
          "base_uri": "https://localhost:8080/"
        },
        "id": "Urx83HQH3Mja",
        "outputId": "8bdf1306-e3a4-4026-fec3-76ef656100f7"
      },
      "execution_count": 14,
      "outputs": [
        {
          "output_type": "execute_result",
          "data": {
            "text/plain": [
              "tensor([1., 4., 9.])"
            ]
          },
          "metadata": {},
          "execution_count": 14
        }
      ]
    },
    {
      "cell_type": "markdown",
      "source": [
        "### Getting Information from tensors\n",
        "\n",
        "\n",
        "\n",
        "1.   Tensors not the right data type - get data type `tensor.dtype`\n",
        "2.   Tensors not the right shape - get shape `tensor.shape`\n",
        "3.   Tensors not the right device - get shape `tensor.device`\n",
        "\n",
        "\n"
      ],
      "metadata": {
        "id": "gkHAOGNq-B_R"
      }
    },
    {
      "cell_type": "code",
      "source": [
        "# create a tensor\n",
        "some_Tensor = torch.rand(3,4)\n",
        "some_Tensor"
      ],
      "metadata": {
        "colab": {
          "base_uri": "https://localhost:8080/"
        },
        "id": "sivnwEau_5ZG",
        "outputId": "5cb1f091-eadc-4a2e-b3c9-36c01b6d2315"
      },
      "execution_count": 15,
      "outputs": [
        {
          "output_type": "execute_result",
          "data": {
            "text/plain": [
              "tensor([[0.2922, 0.5967, 0.9741, 0.9865],\n",
              "        [0.7208, 0.8729, 0.7215, 0.2149],\n",
              "        [0.0678, 0.6781, 0.9016, 0.3256]])"
            ]
          },
          "metadata": {},
          "execution_count": 15
        }
      ]
    },
    {
      "cell_type": "code",
      "source": [
        "# Find out details of a tensor\n",
        "some_Tensor = some_Tensor.to(torch.float64)\n",
        "print(some_Tensor)\n",
        "print(f\"Data type of tensor: {some_Tensor.dtype}\")\n",
        "print(f\"Shape of tensor: {some_Tensor.shape}\")\n",
        "print(f\"Device of tensor: {some_Tensor.device}\")"
      ],
      "metadata": {
        "colab": {
          "base_uri": "https://localhost:8080/"
        },
        "id": "7IvSWiefAQjC",
        "outputId": "ae1c87bb-1611-4d6d-9cfe-2d7570da0784"
      },
      "execution_count": 16,
      "outputs": [
        {
          "output_type": "stream",
          "name": "stdout",
          "text": [
            "tensor([[0.2922, 0.5967, 0.9741, 0.9865],\n",
            "        [0.7208, 0.8729, 0.7215, 0.2149],\n",
            "        [0.0678, 0.6781, 0.9016, 0.3256]], dtype=torch.float64)\n",
            "Data type of tensor: torch.float64\n",
            "Shape of tensor: torch.Size([3, 4])\n",
            "Device of tensor: cpu\n"
          ]
        }
      ]
    },
    {
      "cell_type": "markdown",
      "source": [
        "## Manipulating tensors (tensor operations)\n",
        "Addition\n",
        "\n",
        "* Addition\n",
        "* Substraction\n",
        "* Multiplication (element-wise)\n",
        "* Division\n",
        "* Matrix multiplication"
      ],
      "metadata": {
        "id": "1PTf9UtWFGU0"
      }
    },
    {
      "cell_type": "code",
      "source": [
        "# Addition\n",
        "tensor = torch.tensor([1,2,3])\n",
        "print(tensor + 15)\n",
        "# Subtract\n",
        "print(tensor -10)\n",
        "# Multiply\n",
        "print(tensor * 10)\n",
        "# divide\n",
        "print(tensor/2)\n",
        "# matrix multiply (dot product)\n",
        "matrix_to_multiply = torch.tensor([[1],[2],[3]])\n",
        "torch.matmul(tensor, matrix_to_multiply) # (1*1 + 2*2 + 3*3)"
      ],
      "metadata": {
        "colab": {
          "base_uri": "https://localhost:8080/"
        },
        "id": "jqGwmXsMFw9D",
        "outputId": "4cc82be4-08b7-4692-a26d-e89495166890"
      },
      "execution_count": 17,
      "outputs": [
        {
          "output_type": "stream",
          "name": "stdout",
          "text": [
            "tensor([16, 17, 18])\n",
            "tensor([-9, -8, -7])\n",
            "tensor([10, 20, 30])\n",
            "tensor([0.5000, 1.0000, 1.5000])\n"
          ]
        },
        {
          "output_type": "execute_result",
          "data": {
            "text/plain": [
              "tensor([14])"
            ]
          },
          "metadata": {},
          "execution_count": 17
        }
      ]
    },
    {
      "cell_type": "code",
      "source": [
        "## example of dot product from here https://www.mathsisfun.com/algebra/matrix-multiplying.html but using pytorch\n",
        "a = torch.tensor([[1,2,3],[4,5,6]])\n",
        "b = torch.tensor([[7,8],[9,10],[11,12]])\n",
        "torch.matmul(a,b)\n",
        "## note that matmul is way faster than using a traditional for loop\n",
        "## as in any dot product calculation number of rows of a == number columns of b"
      ],
      "metadata": {
        "colab": {
          "base_uri": "https://localhost:8080/"
        },
        "id": "SLp08UG1JyMM",
        "outputId": "82a22605-4ee0-423f-f169-253be7b13b4b"
      },
      "execution_count": 18,
      "outputs": [
        {
          "output_type": "execute_result",
          "data": {
            "text/plain": [
              "tensor([[ 58,  64],\n",
              "        [139, 154]])"
            ]
          },
          "metadata": {},
          "execution_count": 18
        }
      ]
    },
    {
      "cell_type": "markdown",
      "source": [
        "## Transposing tensors"
      ],
      "metadata": {
        "id": "XrxCo8B9P2no"
      }
    },
    {
      "cell_type": "code",
      "source": [
        "## Transpose\n",
        "tensor = torch.tensor([[1,2,3]])\n",
        "print(f\"Original Tensor -> {tensor}, size -> {tensor.shape}\")\n",
        "transposed_Tensor = tensor.T\n",
        "print(f\"Transposed Tensor -> {transposed_Tensor}, size -> {transposed_Tensor.shape}\")"
      ],
      "metadata": {
        "colab": {
          "base_uri": "https://localhost:8080/"
        },
        "id": "SP4nOO-_J6N8",
        "outputId": "aa7be161-8eff-442f-c354-a7f2c5365d3b"
      },
      "execution_count": 19,
      "outputs": [
        {
          "output_type": "stream",
          "name": "stdout",
          "text": [
            "Original Tensor -> tensor([[1, 2, 3]]), size -> torch.Size([1, 3])\n",
            "Transposed Tensor -> tensor([[1],\n",
            "        [2],\n",
            "        [3]]), size -> torch.Size([3, 1])\n"
          ]
        }
      ]
    },
    {
      "cell_type": "markdown",
      "source": [
        "## Aggregations (min, max, sum ...)"
      ],
      "metadata": {
        "id": "NFaFzce9W7Vc"
      }
    },
    {
      "cell_type": "code",
      "source": [
        "## create tensor\n",
        "x = torch.arange(0, 100, 10)\n",
        "print(x)\n",
        "x_min = torch.min(x) # or you can just use x.min() ...ditto for the rest\n",
        "x_min_position = torch.argmin(x)\n",
        "x_max = torch.max(x)\n",
        "x_max_position = torch.argmax(x)\n",
        "x_mean = torch.mean(x.to(torch.float64)) # note here that mean can not work on integers\n",
        "x_total = torch.sum(x)\n",
        "print(f\"min -> {x_min}, position -> {x_min_position}, \\nmax -> {x_max}, position -> {x_max_position}, \\nave -> {x_mean}, \\ntotal -> {x_total}\")"
      ],
      "metadata": {
        "colab": {
          "base_uri": "https://localhost:8080/"
        },
        "id": "g1VTZVR8XBpQ",
        "outputId": "af1f6b55-ba94-4455-b973-b14038733633"
      },
      "execution_count": 20,
      "outputs": [
        {
          "output_type": "stream",
          "name": "stdout",
          "text": [
            "tensor([ 0, 10, 20, 30, 40, 50, 60, 70, 80, 90])\n",
            "min -> 0, position -> 0, \n",
            "max -> 90, position -> 9, \n",
            "ave -> 45.0, \n",
            "total -> 450\n"
          ]
        }
      ]
    },
    {
      "cell_type": "markdown",
      "source": [
        "## Reshaping, stacking, squeezing and unsqueezing tensors\n",
        "\n",
        "\n",
        "\n",
        "*   Reshaping - given an input tensor, change to defined shape\n",
        "*   View - Returns a view of the original tensor in a different shape but shares the same data as the original tensor.\n",
        "* Stacking - Concatenates a sequence of tensors along a new dimension (dim), all tensors must be same size.\n",
        "* Squeeze - Squeezes input to remove all the dimenions with value 1.\n",
        "* UnSqueeze - Returns input with a dimension value of 1 added at dim.\n",
        "* Permute - Returns a view of the original input with its dimensions permuted (rearranged) to dims\n",
        "\n"
      ],
      "metadata": {
        "id": "Dqx7eFzTKYlU"
      }
    },
    {
      "cell_type": "code",
      "source": [
        "## Reshaping - add an extra dimension\n",
        "x = torch.arange(1,10)\n",
        "print(x, x.shape)\n",
        "## note that new dimensions must be congruent with the shape we want to change or will error, TODO: play around with this\n",
        "x_reshaped = x.reshape(9,1)\n",
        "print(x_reshaped, x_reshaped.shape)\n",
        "x_reshaped = x.reshape(1,9)\n",
        "print(x_reshaped, x_reshaped.shape)"
      ],
      "metadata": {
        "colab": {
          "base_uri": "https://localhost:8080/"
        },
        "id": "mqdPUATMOKuU",
        "outputId": "a7713e44-db29-492f-e00a-b4695d2c7586"
      },
      "execution_count": 21,
      "outputs": [
        {
          "output_type": "stream",
          "name": "stdout",
          "text": [
            "tensor([1, 2, 3, 4, 5, 6, 7, 8, 9]) torch.Size([9])\n",
            "tensor([[1],\n",
            "        [2],\n",
            "        [3],\n",
            "        [4],\n",
            "        [5],\n",
            "        [6],\n",
            "        [7],\n",
            "        [8],\n",
            "        [9]]) torch.Size([9, 1])\n",
            "tensor([[1, 2, 3, 4, 5, 6, 7, 8, 9]]) torch.Size([1, 9])\n"
          ]
        }
      ]
    },
    {
      "cell_type": "code",
      "source": [
        "## Change the view\n",
        "x = torch.arange(1,10)\n",
        "print(x, x.shape)\n",
        "# same as reshape, however this shares the same memory as the original tensor, so if you change z then x will change as well\n",
        "z = x.view(1, 9)\n",
        "print(z, z.shape)\n",
        "## example of the mutation carrying on to the original tensor\n",
        "z[0][3] = 19\n",
        "print(z, z.shape)\n",
        "print(x, x.shape) # <- note here that x changed too!"
      ],
      "metadata": {
        "colab": {
          "base_uri": "https://localhost:8080/"
        },
        "id": "Q6bRIMdjRuBT",
        "outputId": "ba64762c-e27d-4995-9588-be3f5d4ca3d0"
      },
      "execution_count": 22,
      "outputs": [
        {
          "output_type": "stream",
          "name": "stdout",
          "text": [
            "tensor([1, 2, 3, 4, 5, 6, 7, 8, 9]) torch.Size([9])\n",
            "tensor([[1, 2, 3, 4, 5, 6, 7, 8, 9]]) torch.Size([1, 9])\n",
            "tensor([[ 1,  2,  3, 19,  5,  6,  7,  8,  9]]) torch.Size([1, 9])\n",
            "tensor([ 1,  2,  3, 19,  5,  6,  7,  8,  9]) torch.Size([9])\n"
          ]
        }
      ]
    },
    {
      "cell_type": "code",
      "source": [
        "## Stack tensors ontop of each other\n",
        "x = torch.arange(1,10)\n",
        "print(x, x.shape)\n",
        "x_stacked = torch.stack([x, x, x], dim=0) # default\n",
        "print(f\"stacked default \\n{x_stacked}, size={x_stacked.shape}\")\n",
        "x_stacked = torch.stack([x, x, x], dim=1)\n",
        "print(f\"stacked dim = 1 \\n{x_stacked}, size={x_stacked.shape}\")"
      ],
      "metadata": {
        "colab": {
          "base_uri": "https://localhost:8080/"
        },
        "id": "O2ht9716SW_T",
        "outputId": "d3edae67-f7c8-491e-974e-b2db2be8e55c"
      },
      "execution_count": 23,
      "outputs": [
        {
          "output_type": "stream",
          "name": "stdout",
          "text": [
            "tensor([1, 2, 3, 4, 5, 6, 7, 8, 9]) torch.Size([9])\n",
            "stacked default \n",
            "tensor([[1, 2, 3, 4, 5, 6, 7, 8, 9],\n",
            "        [1, 2, 3, 4, 5, 6, 7, 8, 9],\n",
            "        [1, 2, 3, 4, 5, 6, 7, 8, 9]]), size=torch.Size([3, 9])\n",
            "stacked dim = 1 \n",
            "tensor([[1, 1, 1],\n",
            "        [2, 2, 2],\n",
            "        [3, 3, 3],\n",
            "        [4, 4, 4],\n",
            "        [5, 5, 5],\n",
            "        [6, 6, 6],\n",
            "        [7, 7, 7],\n",
            "        [8, 8, 8],\n",
            "        [9, 9, 9]]), size=torch.Size([9, 3])\n"
          ]
        }
      ]
    },
    {
      "cell_type": "code",
      "source": [
        "## squeeze - removes all single dimensions from a target tensor\n",
        "print(f\"Original -> {x_reshaped} size -> {x_reshaped.shape}\")\n",
        "squeezed = x_reshaped.squeeze()\n",
        "print(f\"Squeezed -> {squeezed} size -> {squeezed.shape}\")"
      ],
      "metadata": {
        "colab": {
          "base_uri": "https://localhost:8080/"
        },
        "id": "YbJrwuOm58Rb",
        "outputId": "f3129d8c-8528-41f9-d958-f3b38ddb0326"
      },
      "execution_count": 24,
      "outputs": [
        {
          "output_type": "stream",
          "name": "stdout",
          "text": [
            "Original -> tensor([[1, 2, 3, 4, 5, 6, 7, 8, 9]]) size -> torch.Size([1, 9])\n",
            "Squeezed -> tensor([1, 2, 3, 4, 5, 6, 7, 8, 9]) size -> torch.Size([9])\n"
          ]
        }
      ]
    },
    {
      "cell_type": "code",
      "source": [
        "## unsqueeze - adds a single dimensions to a target tensor\n",
        "print(f\"Original -> {squeezed} size -> {squeezed.shape}\")\n",
        "unsqueezed = squeezed.unsqueeze(dim=0)\n",
        "print(f\"Unsqueezed -> {unsqueezed} size -> {unsqueezed.shape}\")"
      ],
      "metadata": {
        "colab": {
          "base_uri": "https://localhost:8080/"
        },
        "id": "GurWcx9j715m",
        "outputId": "5e82d9cb-a167-441b-c1dc-61cc106836bf"
      },
      "execution_count": 25,
      "outputs": [
        {
          "output_type": "stream",
          "name": "stdout",
          "text": [
            "Original -> tensor([1, 2, 3, 4, 5, 6, 7, 8, 9]) size -> torch.Size([9])\n",
            "Unsqueezed -> tensor([[1, 2, 3, 4, 5, 6, 7, 8, 9]]) size -> torch.Size([1, 9])\n"
          ]
        }
      ]
    },
    {
      "cell_type": "code",
      "source": [
        "## permute - rearranges the dimensions of a target tensor in a specified order\n",
        "x_original = torch.rand(size=(224,224,3)) #Height, width, color channel (R,G,B)\n",
        "print(f\"original shape -> {x_original.shape}\")\n",
        "\n",
        "## permute the original tensor to reaarange the axis (or dim)\n",
        "## say you want to permute to color channels, Height, width\n",
        "x_permuted = x_original.permute(2,0,1) #where 2 was the orginal dim for the color channel and so forth\n",
        "print(f\"Permuted shape -> {x_permuted.shape}\")"
      ],
      "metadata": {
        "colab": {
          "base_uri": "https://localhost:8080/"
        },
        "id": "AgAJCeLN9PoV",
        "outputId": "0bb5ea92-a46b-411f-bc6d-79098eed4cef"
      },
      "execution_count": 26,
      "outputs": [
        {
          "output_type": "stream",
          "name": "stdout",
          "text": [
            "original shape -> torch.Size([224, 224, 3])\n",
            "Permuted shape -> torch.Size([3, 224, 224])\n"
          ]
        }
      ]
    },
    {
      "cell_type": "markdown",
      "source": [
        "## Indexing (selecting data in tensors)\n",
        "\n",
        "Indexing in pyTorch is similar to Numpy"
      ],
      "metadata": {
        "id": "khcaunt-_rth"
      }
    },
    {
      "cell_type": "code",
      "source": [
        "x = torch.arange(1,10).reshape(1,3,3)\n",
        "print(f\"x -> {x}, \\nshape -> {x.shape}, \\ntotal dimensions -> {x.ndim}\")\n",
        "## Indexing the tensor, on the first dimension\n",
        "print(f\"\\nFirst dimension -> {x[0]}\")\n",
        "print(f\"\\nFirst dimension, First row -> {x[0][0]}\") ## can also be written as x[0,0]\n",
        "print(f\"\\nFirst dimension, First row, third element -> {x[0][0][0]}\")\n",
        "print(f\"\\nFirst dimension, third row, third element -> {x[0][2][2]}\")\n",
        "\n",
        "## You can also use \":\" to select all of a target dimension\n",
        "print(f\"\\nFirst dimension, second row -> {x[:, 1]}\")\n",
        "\n",
        "## or you can select, all the dimensions upto a certain index of the last\n",
        "print(f\"\\nFirst dimension, all rows, all second elements -> {x[:, : ,1]}\")"
      ],
      "metadata": {
        "colab": {
          "base_uri": "https://localhost:8080/"
        },
        "id": "ZeIcOF1-4Z-D",
        "outputId": "bcb71d8b-0829-4146-9cf9-dc51764719b0"
      },
      "execution_count": 70,
      "outputs": [
        {
          "output_type": "stream",
          "name": "stdout",
          "text": [
            "x -> tensor([[[1, 2, 3],\n",
            "         [4, 5, 6],\n",
            "         [7, 8, 9]]]), \n",
            "shape -> torch.Size([1, 3, 3]), \n",
            "total dimensions -> 3\n",
            "\n",
            "First dimension -> tensor([[1, 2, 3],\n",
            "        [4, 5, 6],\n",
            "        [7, 8, 9]])\n",
            "\n",
            "First dimension, First row -> tensor([1, 2, 3])\n",
            "\n",
            "First dimension, First row, third element -> 1\n",
            "\n",
            "First dimension, third row, third element -> 9\n",
            "\n",
            "First dimension, second row -> tensor([[4, 5, 6]])\n",
            "\n",
            "First dimension, all rows, all second elements -> tensor([[2, 5, 8]])\n"
          ]
        }
      ]
    },
    {
      "cell_type": "markdown",
      "source": [
        "## PyTorch tensors and NumPy\n",
        "Since NumPy is a popular Python numerical computing library, PyTorch has functionality to interact with it nicely.\n",
        "\n",
        "The two main methods you'll want to use for NumPy to PyTorch (and back again) are:\n",
        "\n",
        "`torch.from_numpy(ndarray)` - NumPy array -> PyTorch tensor.\n",
        "\n",
        "`torch.Tensor.numpy()` - PyTorch tensor -> NumPy array."
      ],
      "metadata": {
        "id": "bgZohzJx__XA"
      }
    },
    {
      "cell_type": "code",
      "source": [
        "## Numpy array to tensor\n",
        "import torch\n",
        "import numpy as np\n",
        "array = np.arange(1.0,8.0)\n",
        "tensor = torch.from_numpy(array)\n",
        "array, tensor ## note that its is using numpy's default datatype on the tensor and not torch's"
      ],
      "metadata": {
        "colab": {
          "base_uri": "https://localhost:8080/"
        },
        "id": "Rfer2oqnBQAd",
        "outputId": "b432be56-5696-4535-8f94-31407b7634f2"
      },
      "execution_count": 81,
      "outputs": [
        {
          "output_type": "stream",
          "name": "stdout",
          "text": [
            "tensor([1., 2., 3., 4., 5., 6., 7.], dtype=torch.float64)\n"
          ]
        }
      ]
    },
    {
      "cell_type": "code",
      "source": [
        "## Tensor to numpy array\n",
        "tensor = torch.rand(3)\n",
        "numPyArr = tensor.numpy()\n",
        "print(f\"tensor -> {tensor} \\nNumpy array -> {numPyArr}\") ## note the datatype change"
      ],
      "metadata": {
        "colab": {
          "base_uri": "https://localhost:8080/"
        },
        "id": "mgC1eZ43DYIY",
        "outputId": "9a40ada4-4b6a-45e6-b665-c7697cff8f07"
      },
      "execution_count": 95,
      "outputs": [
        {
          "output_type": "stream",
          "name": "stdout",
          "text": [
            "tensor -> tensor([0.7383, 0.1515, 0.1907]) \n",
            "Numpy array -> [0.7383069  0.15147334 0.19068706]\n"
          ]
        }
      ]
    }
  ]
}