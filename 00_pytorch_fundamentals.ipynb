{
  "nbformat": 4,
  "nbformat_minor": 0,
  "metadata": {
    "colab": {
      "provenance": [],
      "gpuType": "T4",
      "authorship_tag": "ABX9TyO5TI6tGNccrmLHAAdCuzCz",
      "include_colab_link": true
    },
    "kernelspec": {
      "name": "python3",
      "display_name": "Python 3"
    },
    "language_info": {
      "name": "python"
    }
  },
  "cells": [
    {
      "cell_type": "markdown",
      "metadata": {
        "id": "view-in-github",
        "colab_type": "text"
      },
      "source": [
        "<a href=\"https://colab.research.google.com/github/Dereje1/pytorch/blob/main/00_pytorch_fundamentals.ipynb\" target=\"_parent\"><img src=\"https://colab.research.google.com/assets/colab-badge.svg\" alt=\"Open In Colab\"/></a>"
      ]
    },
    {
      "cell_type": "code",
      "execution_count": 2,
      "metadata": {
        "colab": {
          "base_uri": "https://localhost:8080/"
        },
        "id": "SNZLGUnXcDAB",
        "outputId": "3da66ae9-6b7f-4ef8-a4a9-d98476a29c39"
      },
      "outputs": [
        {
          "output_type": "stream",
          "name": "stdout",
          "text": [
            "2.0.1+cu118\n"
          ]
        }
      ],
      "source": [
        "import torch\n",
        "import pandas as pd\n",
        "import numpy as np\n",
        "import matplotlib.pyplot as plt\n",
        "print(torch.__version__)"
      ]
    },
    {
      "cell_type": "markdown",
      "source": [
        "Introduction to Tensors\n",
        "\n",
        "Creating tensors\n",
        "\n",
        "Pytorch tensors are created with torch.tensor() -> reference -> https://pytorch.org/docs/stable/tensors.html"
      ],
      "metadata": {
        "id": "hXPFuU-Lhprp"
      }
    },
    {
      "cell_type": "markdown",
      "source": [
        "## Understanding Scalars, vectors, matrices and tensors"
      ],
      "metadata": {
        "id": "S4i1pwaDzdKQ"
      }
    },
    {
      "cell_type": "code",
      "source": [
        "#scalar\n",
        "scalar = torch.tensor(7)\n",
        "print(f\"scalar = { scalar } \\nndim -> {scalar.ndim} shape -> {scalar.shape} item -> {scalar.item()}\")"
      ],
      "metadata": {
        "colab": {
          "base_uri": "https://localhost:8080/"
        },
        "id": "Jj8tS3kFh5AN",
        "outputId": "0c8d248e-8758-4ba6-9dbb-1c833df53670"
      },
      "execution_count": 8,
      "outputs": [
        {
          "output_type": "stream",
          "name": "stdout",
          "text": [
            "scalar = 7 \n",
            "ndim -> 0 shape -> torch.Size([]) item -> 7\n"
          ]
        }
      ]
    },
    {
      "cell_type": "code",
      "source": [
        "## Vector\n",
        "vector = torch.tensor([7,7])\n",
        "print(f\"Vector = { vector } \\nndim -> {vector.ndim} shape -> {vector.shape}\")"
      ],
      "metadata": {
        "colab": {
          "base_uri": "https://localhost:8080/"
        },
        "id": "fl09UcSDkCzU",
        "outputId": "bdde0785-07a0-4dc0-f9d4-b9f3e7416b6f"
      },
      "execution_count": 10,
      "outputs": [
        {
          "output_type": "stream",
          "name": "stdout",
          "text": [
            "Vector = tensor([7, 7]) \n",
            "ndim -> 1 shape -> torch.Size([2])\n"
          ]
        }
      ]
    },
    {
      "cell_type": "code",
      "source": [
        "## MATRIX\n",
        "MATRIX = torch.tensor([[7,8], [9,10]])\n",
        "print(f\"Matrix = { MATRIX } \\nndim -> {MATRIX.ndim} shape -> {MATRIX.shape}\")"
      ],
      "metadata": {
        "colab": {
          "base_uri": "https://localhost:8080/"
        },
        "id": "Y8miIdLwkXMi",
        "outputId": "98612058-44f3-4bd0-979e-046f9be6a6f9"
      },
      "execution_count": 15,
      "outputs": [
        {
          "output_type": "stream",
          "name": "stdout",
          "text": [
            "Matrix = tensor([[ 7,  8],\n",
            "        [ 9, 10]]) \n",
            "ndim -> 2 shape -> torch.Size([2, 2])\n"
          ]
        }
      ]
    },
    {
      "cell_type": "markdown",
      "source": [
        "The torch.size indicates the shape of a tensor, and describes the number of elements along each dimension. In the case of a tensor t with shape (2, 4, 3) as below, it means that the tensor has 3 dimensions, with the first dimension having a size of 2, the second dimension having a size of 4, and the third dimension having a size of 3. In other words, the tensor has 2 rows, each row has 4 columns, and each column has 3 elements. The total number of elements in the tensor is the product of the sizes of all dimensions, which in this case is 2 * 4 * 3 = 24"
      ],
      "metadata": {
        "id": "Q-bAHnXCCNDn"
      }
    },
    {
      "cell_type": "code",
      "source": [
        "## TENSOR\n",
        "TENSOR = torch.tensor([\n",
        "    [\n",
        "        [1,2,3],\n",
        "        [4,5,6],\n",
        "        [7,8,9],\n",
        "        [10,11,12]\n",
        "    ],\n",
        "    [\n",
        "        [11,21,31],\n",
        "        [41,51,61],\n",
        "        [71,81,91],\n",
        "        [101,111,121]\n",
        "    ]\n",
        "    ])\n",
        "print(f\"Tensor = { TENSOR } \\nndim -> {TENSOR.ndim} shape -> {TENSOR.shape} totalElements -> {TENSOR.numel()}\")"
      ],
      "metadata": {
        "colab": {
          "base_uri": "https://localhost:8080/"
        },
        "id": "l9FADd-wl7vT",
        "outputId": "6bc905f8-a46f-4f1b-be3d-7b289743e7f6"
      },
      "execution_count": 24,
      "outputs": [
        {
          "output_type": "stream",
          "name": "stdout",
          "text": [
            "Tensor = tensor([[[  1,   2,   3],\n",
            "         [  4,   5,   6],\n",
            "         [  7,   8,   9],\n",
            "         [ 10,  11,  12]],\n",
            "\n",
            "        [[ 11,  21,  31],\n",
            "         [ 41,  51,  61],\n",
            "         [ 71,  81,  91],\n",
            "         [101, 111, 121]]]) \n",
            "ndim -> 3 shape -> torch.Size([2, 4, 3]) totalElements -> 24\n"
          ]
        }
      ]
    },
    {
      "cell_type": "markdown",
      "source": [
        "## Random Tensors\n",
        "\n",
        "Why Random tensors ?\n",
        "\n",
        "Random tensors are important since the way many nueral networks learn is by starting with a matix of random numbers and then iterate over those numbers to fit the data\n",
        "\n",
        "`Start with random numbers -> look at data -> update random numbers -> look at data -> update random numbers`"
      ],
      "metadata": {
        "id": "vHB0Rel0p3lm"
      }
    },
    {
      "cell_type": "code",
      "source": [
        "## Create random tensors with pytorch of size (3,4)\n",
        "random_tensor = torch.rand(3,4)\n",
        "random_tensor"
      ],
      "metadata": {
        "colab": {
          "base_uri": "https://localhost:8080/"
        },
        "id": "AI4Z7rRZqPVr",
        "outputId": "2c1140d7-61ff-4634-a62a-87922a0b569c"
      },
      "execution_count": null,
      "outputs": [
        {
          "output_type": "execute_result",
          "data": {
            "text/plain": [
              "tensor([[0.3925, 0.5479, 0.7167, 0.0171],\n",
              "        [0.3665, 0.0812, 0.2435, 0.9365],\n",
              "        [0.0105, 0.6657, 0.4015, 0.2379]])"
            ]
          },
          "metadata": {},
          "execution_count": 12
        }
      ]
    },
    {
      "cell_type": "code",
      "source": [
        "## Create a random tensor with a similar shape to an image tensor\n",
        "random_image_size_tensor = torch.rand(size=(224,224,3)) #Height, width, color channel (R,G,B)\n",
        "random_image_size_tensor"
      ],
      "metadata": {
        "colab": {
          "base_uri": "https://localhost:8080/"
        },
        "id": "6-uv6vZArhk9",
        "outputId": "8963fd82-ba24-468d-eab0-47524233a669"
      },
      "execution_count": null,
      "outputs": [
        {
          "output_type": "execute_result",
          "data": {
            "text/plain": [
              "tensor([[[0.6814, 0.4215, 0.9989],\n",
              "         [0.4260, 0.1123, 0.9649],\n",
              "         [0.7073, 0.6121, 0.0493],\n",
              "         ...,\n",
              "         [0.1358, 0.9448, 0.8307],\n",
              "         [0.6886, 0.1669, 0.7858],\n",
              "         [0.8664, 0.8043, 0.6006]],\n",
              "\n",
              "        [[0.2608, 0.4805, 0.6922],\n",
              "         [0.9359, 0.4109, 0.0077],\n",
              "         [0.0800, 0.3225, 0.2348],\n",
              "         ...,\n",
              "         [0.4824, 0.1389, 0.7154],\n",
              "         [0.5431, 0.1958, 0.7504],\n",
              "         [0.9450, 0.0463, 0.2313]],\n",
              "\n",
              "        [[0.8350, 0.6308, 0.2388],\n",
              "         [0.7125, 0.7378, 0.1595],\n",
              "         [0.3496, 0.5267, 0.5192],\n",
              "         ...,\n",
              "         [0.6217, 0.2468, 0.6909],\n",
              "         [0.4355, 0.3996, 0.7647],\n",
              "         [0.2897, 0.6720, 0.4996]],\n",
              "\n",
              "        ...,\n",
              "\n",
              "        [[0.1857, 0.8646, 0.9807],\n",
              "         [0.2316, 0.4323, 0.0396],\n",
              "         [0.7113, 0.1904, 0.3750],\n",
              "         ...,\n",
              "         [0.5556, 0.9130, 0.2981],\n",
              "         [0.4410, 0.5012, 0.2330],\n",
              "         [0.8252, 0.1715, 0.5066]],\n",
              "\n",
              "        [[0.2903, 0.8105, 0.3000],\n",
              "         [0.3948, 0.9021, 0.4847],\n",
              "         [0.1760, 0.5460, 0.8336],\n",
              "         ...,\n",
              "         [0.9707, 0.3952, 0.5207],\n",
              "         [0.8811, 0.9302, 0.6154],\n",
              "         [0.0700, 0.6878, 0.5907]],\n",
              "\n",
              "        [[0.6520, 0.7229, 0.2256],\n",
              "         [0.5009, 0.5928, 0.8881],\n",
              "         [0.5015, 0.2317, 0.7928],\n",
              "         ...,\n",
              "         [0.9109, 0.2913, 0.6322],\n",
              "         [0.0782, 0.3866, 0.3113],\n",
              "         [0.7263, 0.8208, 0.2188]]])"
            ]
          },
          "metadata": {},
          "execution_count": 13
        }
      ]
    },
    {
      "cell_type": "code",
      "source": [
        "random_image_size_tensor.shape, random_image_size_tensor.ndim"
      ],
      "metadata": {
        "colab": {
          "base_uri": "https://localhost:8080/"
        },
        "id": "jbmsUzmntC-I",
        "outputId": "2bf75b4c-9705-4980-b32d-fed4c7b48b85"
      },
      "execution_count": null,
      "outputs": [
        {
          "output_type": "execute_result",
          "data": {
            "text/plain": [
              "(torch.Size([224, 224, 3]), 3)"
            ]
          },
          "metadata": {},
          "execution_count": 14
        }
      ]
    },
    {
      "cell_type": "markdown",
      "source": [
        "## Zeros and ones"
      ],
      "metadata": {
        "id": "nPf-xer4tNvh"
      }
    },
    {
      "cell_type": "code",
      "source": [
        "## Create a tensor of all zeroes and ones\n",
        "zeroes = torch.zeros(3,4)\n",
        "ones=torch.ones(3,4)\n",
        "zeroes\n",
        "ones"
      ],
      "metadata": {
        "colab": {
          "base_uri": "https://localhost:8080/"
        },
        "id": "S6cMQa4Dulj3",
        "outputId": "16e66366-9d19-47e5-b135-72296d91efa8"
      },
      "execution_count": null,
      "outputs": [
        {
          "output_type": "execute_result",
          "data": {
            "text/plain": [
              "tensor([[1., 1., 1., 1.],\n",
              "        [1., 1., 1., 1.],\n",
              "        [1., 1., 1., 1.]])"
            ]
          },
          "metadata": {},
          "execution_count": 15
        }
      ]
    },
    {
      "cell_type": "code",
      "source": [
        "zeroes.dtype"
      ],
      "metadata": {
        "colab": {
          "base_uri": "https://localhost:8080/"
        },
        "id": "uOQ-HxDtuxHx",
        "outputId": "b1e68a8b-0e12-42ca-d1f5-66dbada73e46"
      },
      "execution_count": null,
      "outputs": [
        {
          "output_type": "execute_result",
          "data": {
            "text/plain": [
              "torch.float32"
            ]
          },
          "metadata": {},
          "execution_count": 16
        }
      ]
    },
    {
      "cell_type": "markdown",
      "source": [
        "## creating a range of tensors and tensors-like"
      ],
      "metadata": {
        "id": "amaFV8tZwgBX"
      }
    },
    {
      "cell_type": "code",
      "source": [
        "one_to_ten = torch.arange(1, 11, 1) # third arg is step\n",
        "one_to_ten"
      ],
      "metadata": {
        "colab": {
          "base_uri": "https://localhost:8080/"
        },
        "id": "SdPuO4Ppu3q5",
        "outputId": "a16e8409-254c-4cd4-df11-ac8ac15e003d"
      },
      "execution_count": null,
      "outputs": [
        {
          "output_type": "execute_result",
          "data": {
            "text/plain": [
              "tensor([ 1,  2,  3,  4,  5,  6,  7,  8,  9, 10])"
            ]
          },
          "metadata": {},
          "execution_count": 17
        }
      ]
    },
    {
      "cell_type": "code",
      "source": [
        "## Creating tensors like\n",
        "ten_zeroes = torch.zeros_like(one_to_ten)\n",
        "ten_zeroes"
      ],
      "metadata": {
        "colab": {
          "base_uri": "https://localhost:8080/"
        },
        "id": "k2ntrdCFv7Y2",
        "outputId": "efc5460c-6efc-4ebc-b829-2ffbbf2f20af"
      },
      "execution_count": null,
      "outputs": [
        {
          "output_type": "execute_result",
          "data": {
            "text/plain": [
              "tensor([0, 0, 0, 0, 0, 0, 0, 0, 0, 0])"
            ]
          },
          "metadata": {},
          "execution_count": 18
        }
      ]
    },
    {
      "cell_type": "markdown",
      "source": [
        "## Tensor Datatypes"
      ],
      "metadata": {
        "id": "TQ1lZX6ZxCgE"
      }
    },
    {
      "cell_type": "code",
      "source": [
        "#Float 32 Tensor\n",
        "float_32_tensor = torch.tensor([1.0,2.0,3.0],\n",
        "                               dtype=None, # what datatype the tensor is default is float32 -> adjust precision with memory/perf tradeoff\n",
        "                               device=None, # default is 'cpu', the device the tensor is on\n",
        "                               requires_grad=False) # track 'gradients' (or not)\n",
        "float_16_tensor = torch.tensor([1.0,2.0,3.0],\n",
        "                               dtype=torch.float16)\n",
        "\n",
        "float_32_tensor.dtype\n"
      ],
      "metadata": {
        "colab": {
          "base_uri": "https://localhost:8080/"
        },
        "id": "rLfmaHe-0lpN",
        "outputId": "35aa4025-54f5-4794-e493-bcf5515b4105"
      },
      "execution_count": null,
      "outputs": [
        {
          "output_type": "execute_result",
          "data": {
            "text/plain": [
              "torch.float32"
            ]
          },
          "metadata": {},
          "execution_count": 19
        }
      ]
    },
    {
      "cell_type": "code",
      "source": [
        "float_16_tensor * float_32_tensor"
      ],
      "metadata": {
        "colab": {
          "base_uri": "https://localhost:8080/"
        },
        "id": "Urx83HQH3Mja",
        "outputId": "47923a01-3a4d-407f-c19d-eb4fd1eab1a5"
      },
      "execution_count": null,
      "outputs": [
        {
          "output_type": "execute_result",
          "data": {
            "text/plain": [
              "tensor([1., 4., 9.])"
            ]
          },
          "metadata": {},
          "execution_count": 20
        }
      ]
    },
    {
      "cell_type": "markdown",
      "source": [
        "### Getting Information from tensors\n",
        "\n",
        "\n",
        "\n",
        "1.   Tensors not the right data type - get data type `tensor.dtype`\n",
        "2.   Tensors not the right shape - get shape `tensor.shape`\n",
        "3.   Tensors not the right device - get shape `tensor.device`\n",
        "\n",
        "\n"
      ],
      "metadata": {
        "id": "gkHAOGNq-B_R"
      }
    },
    {
      "cell_type": "code",
      "source": [
        "# create a tensor\n",
        "some_Tensor = torch.rand(3,4)\n",
        "some_Tensor"
      ],
      "metadata": {
        "colab": {
          "base_uri": "https://localhost:8080/"
        },
        "id": "sivnwEau_5ZG",
        "outputId": "f4a9b9c0-d0d0-467b-bfba-1a334a1c4ce1"
      },
      "execution_count": null,
      "outputs": [
        {
          "output_type": "execute_result",
          "data": {
            "text/plain": [
              "tensor([[0.3060, 0.3503, 0.5050, 0.3769],\n",
              "        [0.3169, 0.3407, 0.6303, 0.2156],\n",
              "        [0.3727, 0.2785, 0.0234, 0.8448]])"
            ]
          },
          "metadata": {},
          "execution_count": 21
        }
      ]
    },
    {
      "cell_type": "code",
      "source": [
        "# Find out details of a tensor\n",
        "some_Tensor = some_Tensor.to(torch.float64)\n",
        "print(some_Tensor)\n",
        "print(f\"Data type of tensor: {some_Tensor.dtype}\")\n",
        "print(f\"Shape of tensor: {some_Tensor.shape}\")\n",
        "print(f\"Device of tensor: {some_Tensor.device}\")"
      ],
      "metadata": {
        "colab": {
          "base_uri": "https://localhost:8080/"
        },
        "id": "7IvSWiefAQjC",
        "outputId": "c48a13e7-ac66-458e-99e7-b73673156e73"
      },
      "execution_count": null,
      "outputs": [
        {
          "output_type": "stream",
          "name": "stdout",
          "text": [
            "tensor([[0.3060, 0.3503, 0.5050, 0.3769],\n",
            "        [0.3169, 0.3407, 0.6303, 0.2156],\n",
            "        [0.3727, 0.2785, 0.0234, 0.8448]], dtype=torch.float64)\n",
            "Data type of tensor: torch.float64\n",
            "Shape of tensor: torch.Size([3, 4])\n",
            "Device of tensor: cpu\n"
          ]
        }
      ]
    },
    {
      "cell_type": "markdown",
      "source": [
        "## Manipulating tensors (tensor operations)\n",
        "Addition\n",
        "\n",
        "* Addition\n",
        "* Substraction\n",
        "* Multiplication (element-wise)\n",
        "* Division\n",
        "* Matrix multiplication"
      ],
      "metadata": {
        "id": "1PTf9UtWFGU0"
      }
    },
    {
      "cell_type": "code",
      "source": [
        "# Addition\n",
        "tensor = torch.tensor([1,2,3])\n",
        "print(tensor + 15)\n",
        "# Subtract\n",
        "print(tensor -10)\n",
        "# Multiply\n",
        "print(tensor * 10)\n",
        "# divide\n",
        "print(tensor/2)\n",
        "# matrix multiply (dot product)\n",
        "matrix_to_multiply = torch.tensor([[1],[2],[3]])\n",
        "torch.matmul(tensor, matrix_to_multiply) # (1*1 + 2*2 + 3*3)"
      ],
      "metadata": {
        "colab": {
          "base_uri": "https://localhost:8080/"
        },
        "id": "jqGwmXsMFw9D",
        "outputId": "5165f20b-b0ca-4b3c-ca7f-1f0691b86e1e"
      },
      "execution_count": null,
      "outputs": [
        {
          "output_type": "stream",
          "name": "stdout",
          "text": [
            "tensor([16, 17, 18])\n",
            "tensor([-9, -8, -7])\n",
            "tensor([10, 20, 30])\n",
            "tensor([0.5000, 1.0000, 1.5000])\n"
          ]
        },
        {
          "output_type": "execute_result",
          "data": {
            "text/plain": [
              "tensor([14])"
            ]
          },
          "metadata": {},
          "execution_count": 23
        }
      ]
    },
    {
      "cell_type": "code",
      "source": [
        "## example of dot product from here https://www.mathsisfun.com/algebra/matrix-multiplying.html but using pytorch\n",
        "a = torch.tensor([[1,2,3],[4,5,6]])\n",
        "b = torch.tensor([[7,8],[9,10],[11,12]])\n",
        "torch.matmul(a,b)\n",
        "## note that matmul is way faster than using a traditional for loop\n",
        "## as in any dot product calculation number of rows of a == number columns of b"
      ],
      "metadata": {
        "colab": {
          "base_uri": "https://localhost:8080/"
        },
        "id": "SLp08UG1JyMM",
        "outputId": "9ac0c84b-a21a-4ee3-b591-03198d2a5269"
      },
      "execution_count": null,
      "outputs": [
        {
          "output_type": "execute_result",
          "data": {
            "text/plain": [
              "tensor([[ 58,  64],\n",
              "        [139, 154]])"
            ]
          },
          "metadata": {},
          "execution_count": 24
        }
      ]
    },
    {
      "cell_type": "markdown",
      "source": [
        "## Transposing tensors"
      ],
      "metadata": {
        "id": "XrxCo8B9P2no"
      }
    },
    {
      "cell_type": "code",
      "source": [
        "## Transpose\n",
        "tensor = torch.tensor([[1,2,3]])\n",
        "print(f\"Original Tensor -> {tensor}, size -> {tensor.shape}\")\n",
        "transposed_Tensor = tensor.T\n",
        "print(f\"Transposed Tensor -> {transposed_Tensor}, size -> {transposed_Tensor.shape}\")"
      ],
      "metadata": {
        "colab": {
          "base_uri": "https://localhost:8080/"
        },
        "id": "SP4nOO-_J6N8",
        "outputId": "0d6f47eb-a5cf-4bff-98db-32efa733c869"
      },
      "execution_count": null,
      "outputs": [
        {
          "output_type": "stream",
          "name": "stdout",
          "text": [
            "Original Tensor -> tensor([[1, 2, 3]]), size -> torch.Size([1, 3])\n",
            "Transposed Tensor -> tensor([[1],\n",
            "        [2],\n",
            "        [3]]), size -> torch.Size([3, 1])\n"
          ]
        }
      ]
    },
    {
      "cell_type": "markdown",
      "source": [
        "## Aggregations (min, max, sum ...)"
      ],
      "metadata": {
        "id": "NFaFzce9W7Vc"
      }
    },
    {
      "cell_type": "code",
      "source": [
        "## create tensor\n",
        "x = torch.arange(0, 100, 10)\n",
        "print(x)\n",
        "x_min = torch.min(x) # or you can just use x.min() ...ditto for the rest\n",
        "x_min_position = torch.argmin(x)\n",
        "x_max = torch.max(x)\n",
        "x_max_position = torch.argmax(x)\n",
        "x_mean = torch.mean(x.to(torch.float64)) # note here that mean can not work on integers\n",
        "x_total = torch.sum(x)\n",
        "print(f\"min -> {x_min}, position -> {x_min_position}, \\nmax -> {x_max}, position -> {x_max_position}, \\nave -> {x_mean}, \\ntotal -> {x_total}\")"
      ],
      "metadata": {
        "colab": {
          "base_uri": "https://localhost:8080/"
        },
        "id": "g1VTZVR8XBpQ",
        "outputId": "7603fc9b-97b2-4586-ee72-77f20571eca7"
      },
      "execution_count": null,
      "outputs": [
        {
          "output_type": "stream",
          "name": "stdout",
          "text": [
            "tensor([ 0, 10, 20, 30, 40, 50, 60, 70, 80, 90])\n",
            "min -> 0, position -> 0, \n",
            "max -> 90, position -> 9, \n",
            "ave -> 45.0, \n",
            "total -> 450\n"
          ]
        }
      ]
    },
    {
      "cell_type": "markdown",
      "source": [
        "## Reshaping, stacking, squeezing and unsqueezing tensors\n",
        "\n",
        "\n",
        "\n",
        "*   Reshaping - given an input tensor, change to defined shape\n",
        "*   View - Returns a view of the original tensor in a different shape but shares the same data as the original tensor.\n",
        "* Stacking - Concatenates a sequence of tensors along a new dimension (dim), all tensors must be same size.\n",
        "* Squeeze - Squeezes input to remove all the dimenions with value 1.\n",
        "* UnSqueeze - Returns input with a dimension value of 1 added at dim.\n",
        "* Permute - Returns a view of the original input with its dimensions permuted (rearranged) to dims\n",
        "\n"
      ],
      "metadata": {
        "id": "Dqx7eFzTKYlU"
      }
    },
    {
      "cell_type": "code",
      "source": [
        "## Reshaping - add an extra dimension\n",
        "x = torch.arange(1,10)\n",
        "print(x, x.shape)\n",
        "## note that new dimensions must be congruent with the shape we want to change or will error, TODO: play around with this\n",
        "x_reshaped = x.reshape(9,1)\n",
        "print(x_reshaped, x_reshaped.shape)\n",
        "x_reshaped = x.reshape(1,9)\n",
        "print(x_reshaped, x_reshaped.shape)"
      ],
      "metadata": {
        "colab": {
          "base_uri": "https://localhost:8080/"
        },
        "id": "mqdPUATMOKuU",
        "outputId": "af2814f0-4803-4e6a-d18f-bb8c9402dda5"
      },
      "execution_count": null,
      "outputs": [
        {
          "output_type": "stream",
          "name": "stdout",
          "text": [
            "tensor([1, 2, 3, 4, 5, 6, 7, 8, 9]) torch.Size([9])\n",
            "tensor([[1],\n",
            "        [2],\n",
            "        [3],\n",
            "        [4],\n",
            "        [5],\n",
            "        [6],\n",
            "        [7],\n",
            "        [8],\n",
            "        [9]]) torch.Size([9, 1])\n",
            "tensor([[1, 2, 3, 4, 5, 6, 7, 8, 9]]) torch.Size([1, 9])\n"
          ]
        }
      ]
    },
    {
      "cell_type": "code",
      "source": [
        "## Change the view\n",
        "x = torch.arange(1,10)\n",
        "print(x, x.shape)\n",
        "# same as reshape, however this shares the same memory as the original tensor, so if you change z then x will change as well\n",
        "z = x.view(1, 9)\n",
        "print(z, z.shape)\n",
        "## example of the mutation carrying on to the original tensor\n",
        "z[0][3] = 19\n",
        "print(z, z.shape)\n",
        "print(x, x.shape) # <- note here that x changed too!"
      ],
      "metadata": {
        "colab": {
          "base_uri": "https://localhost:8080/"
        },
        "id": "Q6bRIMdjRuBT",
        "outputId": "10d1946f-6426-4165-8d4d-39a8a2fd6023"
      },
      "execution_count": null,
      "outputs": [
        {
          "output_type": "stream",
          "name": "stdout",
          "text": [
            "tensor([1, 2, 3, 4, 5, 6, 7, 8, 9]) torch.Size([9])\n",
            "tensor([[1, 2, 3, 4, 5, 6, 7, 8, 9]]) torch.Size([1, 9])\n",
            "tensor([[ 1,  2,  3, 19,  5,  6,  7,  8,  9]]) torch.Size([1, 9])\n",
            "tensor([ 1,  2,  3, 19,  5,  6,  7,  8,  9]) torch.Size([9])\n"
          ]
        }
      ]
    },
    {
      "cell_type": "code",
      "source": [
        "## Stack tensors ontop of each other\n",
        "x = torch.arange(1,10)\n",
        "print(x, x.shape)\n",
        "x_stacked = torch.stack([x, x, x], dim=0) # default\n",
        "print(f\"stacked default \\n{x_stacked}, size={x_stacked.shape}\")\n",
        "x_stacked = torch.stack([x, x, x], dim=1)\n",
        "print(f\"stacked dim = 1 \\n{x_stacked}, size={x_stacked.shape}\")"
      ],
      "metadata": {
        "colab": {
          "base_uri": "https://localhost:8080/"
        },
        "id": "O2ht9716SW_T",
        "outputId": "f8c002ad-731b-468f-cacf-25b916e28eb3"
      },
      "execution_count": null,
      "outputs": [
        {
          "output_type": "stream",
          "name": "stdout",
          "text": [
            "tensor([1, 2, 3, 4, 5, 6, 7, 8, 9]) torch.Size([9])\n",
            "stacked default \n",
            "tensor([[1, 2, 3, 4, 5, 6, 7, 8, 9],\n",
            "        [1, 2, 3, 4, 5, 6, 7, 8, 9],\n",
            "        [1, 2, 3, 4, 5, 6, 7, 8, 9]]), size=torch.Size([3, 9])\n",
            "stacked dim = 1 \n",
            "tensor([[1, 1, 1],\n",
            "        [2, 2, 2],\n",
            "        [3, 3, 3],\n",
            "        [4, 4, 4],\n",
            "        [5, 5, 5],\n",
            "        [6, 6, 6],\n",
            "        [7, 7, 7],\n",
            "        [8, 8, 8],\n",
            "        [9, 9, 9]]), size=torch.Size([9, 3])\n"
          ]
        }
      ]
    }
  ]
}