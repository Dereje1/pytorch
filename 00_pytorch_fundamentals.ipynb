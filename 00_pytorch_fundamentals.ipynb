{
  "nbformat": 4,
  "nbformat_minor": 0,
  "metadata": {
    "colab": {
      "provenance": [],
      "gpuType": "T4",
      "authorship_tag": "ABX9TyPSbYLTZ3/grsUM0TVTEEqe",
      "include_colab_link": true
    },
    "kernelspec": {
      "name": "python3",
      "display_name": "Python 3"
    },
    "language_info": {
      "name": "python"
    }
  },
  "cells": [
    {
      "cell_type": "markdown",
      "metadata": {
        "id": "view-in-github",
        "colab_type": "text"
      },
      "source": [
        "<a href=\"https://colab.research.google.com/github/Dereje1/pytorch/blob/main/00_pytorch_fundamentals.ipynb\" target=\"_parent\"><img src=\"https://colab.research.google.com/assets/colab-badge.svg\" alt=\"Open In Colab\"/></a>"
      ]
    },
    {
      "cell_type": "code",
      "execution_count": 25,
      "metadata": {
        "colab": {
          "base_uri": "https://localhost:8080/"
        },
        "id": "SNZLGUnXcDAB",
        "outputId": "07e3af47-45f1-4fb2-e9d8-5c71890f9f87"
      },
      "outputs": [
        {
          "output_type": "stream",
          "name": "stdout",
          "text": [
            "2.0.1+cu118\n"
          ]
        }
      ],
      "source": [
        "import torch\n",
        "import pandas as pd\n",
        "import numpy as np\n",
        "import matplotlib.pyplot as plt\n",
        "print(torch.__version__)"
      ]
    },
    {
      "cell_type": "markdown",
      "source": [
        "Introduction to Tensors\n",
        "\n",
        "Creating tensors\n",
        "\n",
        "Pytorch tensors are created with torch.tensor() -> reference -> https://pytorch.org/docs/stable/tensors.html"
      ],
      "metadata": {
        "id": "hXPFuU-Lhprp"
      }
    },
    {
      "cell_type": "code",
      "source": [
        "#scalar\n",
        "scalar = torch.tensor(7)\n",
        "scalar\n"
      ],
      "metadata": {
        "colab": {
          "base_uri": "https://localhost:8080/"
        },
        "id": "Jj8tS3kFh5AN",
        "outputId": "4955eda0-75dc-42bb-f6fb-6cf9b5ab8c40"
      },
      "execution_count": 26,
      "outputs": [
        {
          "output_type": "execute_result",
          "data": {
            "text/plain": [
              "tensor(7)"
            ]
          },
          "metadata": {},
          "execution_count": 26
        }
      ]
    },
    {
      "cell_type": "code",
      "source": [
        "scalar.ndim"
      ],
      "metadata": {
        "colab": {
          "base_uri": "https://localhost:8080/"
        },
        "id": "MeF-fMzpjLov",
        "outputId": "c87047b4-3755-413e-a47e-5883b81405d4"
      },
      "execution_count": 27,
      "outputs": [
        {
          "output_type": "execute_result",
          "data": {
            "text/plain": [
              "0"
            ]
          },
          "metadata": {},
          "execution_count": 27
        }
      ]
    },
    {
      "cell_type": "code",
      "source": [
        "## Get tensor back as python int\n",
        "scalar.item()"
      ],
      "metadata": {
        "colab": {
          "base_uri": "https://localhost:8080/"
        },
        "id": "uaY61Y2jjzZW",
        "outputId": "da6a9e7d-47af-4c51-88c2-0c7294f89020"
      },
      "execution_count": 28,
      "outputs": [
        {
          "output_type": "execute_result",
          "data": {
            "text/plain": [
              "7"
            ]
          },
          "metadata": {},
          "execution_count": 28
        }
      ]
    },
    {
      "cell_type": "code",
      "source": [
        "## Vector\n",
        "vector = torch.tensor([7,7])\n",
        "vector"
      ],
      "metadata": {
        "colab": {
          "base_uri": "https://localhost:8080/"
        },
        "id": "fl09UcSDkCzU",
        "outputId": "5d9f5076-845f-4d17-a312-74b7e289868f"
      },
      "execution_count": 29,
      "outputs": [
        {
          "output_type": "execute_result",
          "data": {
            "text/plain": [
              "tensor([7, 7])"
            ]
          },
          "metadata": {},
          "execution_count": 29
        }
      ]
    },
    {
      "cell_type": "code",
      "source": [
        "## MATRIX\n",
        "MATRIX = torch.tensor([[7,8], [9,10]])\n",
        "MATRIX"
      ],
      "metadata": {
        "colab": {
          "base_uri": "https://localhost:8080/"
        },
        "id": "Y8miIdLwkXMi",
        "outputId": "c9f2ae1b-98fb-4994-e3cd-068cc12a88ec"
      },
      "execution_count": 30,
      "outputs": [
        {
          "output_type": "execute_result",
          "data": {
            "text/plain": [
              "tensor([[ 7,  8],\n",
              "        [ 9, 10]])"
            ]
          },
          "metadata": {},
          "execution_count": 30
        }
      ]
    },
    {
      "cell_type": "code",
      "source": [
        "MATRIX.ndim"
      ],
      "metadata": {
        "colab": {
          "base_uri": "https://localhost:8080/"
        },
        "id": "BDqVpBG8k2dU",
        "outputId": "43d7fade-4224-431a-e8a0-94bdd3cef16f"
      },
      "execution_count": 31,
      "outputs": [
        {
          "output_type": "execute_result",
          "data": {
            "text/plain": [
              "2"
            ]
          },
          "metadata": {},
          "execution_count": 31
        }
      ]
    },
    {
      "cell_type": "code",
      "source": [
        "MATRIX[1]"
      ],
      "metadata": {
        "colab": {
          "base_uri": "https://localhost:8080/"
        },
        "id": "BBzsGXzclNgD",
        "outputId": "fe00ea51-131b-41aa-8ab1-a936b9922bde"
      },
      "execution_count": 32,
      "outputs": [
        {
          "output_type": "execute_result",
          "data": {
            "text/plain": [
              "tensor([ 9, 10])"
            ]
          },
          "metadata": {},
          "execution_count": 32
        }
      ]
    },
    {
      "cell_type": "code",
      "source": [
        "vector.shape"
      ],
      "metadata": {
        "colab": {
          "base_uri": "https://localhost:8080/"
        },
        "id": "YJjLWY2RlnEq",
        "outputId": "63a45a01-f30a-49db-9077-aa0cc239d7ab"
      },
      "execution_count": 33,
      "outputs": [
        {
          "output_type": "execute_result",
          "data": {
            "text/plain": [
              "torch.Size([2])"
            ]
          },
          "metadata": {},
          "execution_count": 33
        }
      ]
    },
    {
      "cell_type": "code",
      "source": [
        "## TENSOR\n",
        "TENSOR = torch.tensor([\n",
        "    [\n",
        "        [1,2,3],\n",
        "        [4,5,6],\n",
        "        [7,8,9]\n",
        "    ],\n",
        "    [\n",
        "        [11,21,31],\n",
        "        [41,51,61],\n",
        "        [71,81,91]\n",
        "    ]\n",
        "    ])\n",
        "TENSOR"
      ],
      "metadata": {
        "colab": {
          "base_uri": "https://localhost:8080/"
        },
        "id": "l9FADd-wl7vT",
        "outputId": "17fb0528-42ed-4c13-a11f-cbc1f08a92fc"
      },
      "execution_count": 34,
      "outputs": [
        {
          "output_type": "execute_result",
          "data": {
            "text/plain": [
              "tensor([[[ 1,  2,  3],\n",
              "         [ 4,  5,  6],\n",
              "         [ 7,  8,  9]],\n",
              "\n",
              "        [[11, 21, 31],\n",
              "         [41, 51, 61],\n",
              "         [71, 81, 91]]])"
            ]
          },
          "metadata": {},
          "execution_count": 34
        }
      ]
    },
    {
      "cell_type": "code",
      "source": [
        "TENSOR.shape"
      ],
      "metadata": {
        "colab": {
          "base_uri": "https://localhost:8080/"
        },
        "id": "txVvg0WAm0H3",
        "outputId": "342344a8-e63a-465c-e57b-ff5a2d28b310"
      },
      "execution_count": 35,
      "outputs": [
        {
          "output_type": "execute_result",
          "data": {
            "text/plain": [
              "torch.Size([2, 3, 3])"
            ]
          },
          "metadata": {},
          "execution_count": 35
        }
      ]
    },
    {
      "cell_type": "markdown",
      "source": [
        "## Random Tensors\n",
        "\n",
        "Why Random tensors ?\n",
        "\n",
        "Random tensors are important since the way many nueral networks learn is by starting with a matix of random numbers and then iterate over those numbers to fit the data\n",
        "\n",
        "`Start with random numbers -> look at data -> update random numbers -> look at data -> update random numbers`"
      ],
      "metadata": {
        "id": "vHB0Rel0p3lm"
      }
    },
    {
      "cell_type": "code",
      "source": [
        "## Create random tensors with pytorch of size (3,4)\n",
        "random_tensor = torch.rand(3,4)\n",
        "random_tensor"
      ],
      "metadata": {
        "colab": {
          "base_uri": "https://localhost:8080/"
        },
        "id": "AI4Z7rRZqPVr",
        "outputId": "59984549-8246-4a50-aa17-3d8fb1a60d65"
      },
      "execution_count": 36,
      "outputs": [
        {
          "output_type": "execute_result",
          "data": {
            "text/plain": [
              "tensor([[0.0775, 0.4072, 0.9790, 0.8262],\n",
              "        [0.6169, 0.3832, 0.5210, 0.9832],\n",
              "        [0.5922, 0.6071, 0.7480, 0.5259]])"
            ]
          },
          "metadata": {},
          "execution_count": 36
        }
      ]
    },
    {
      "cell_type": "code",
      "source": [
        "## Create a random tensor with a similar shape to an image tensor\n",
        "random_image_size_tensor = torch.rand(size=(224,224,3)) #Height, width, color channel (R,G,B)\n",
        "random_image_size_tensor"
      ],
      "metadata": {
        "colab": {
          "base_uri": "https://localhost:8080/"
        },
        "id": "6-uv6vZArhk9",
        "outputId": "3f900d9f-4c9f-48a2-a767-867851065b9d"
      },
      "execution_count": 37,
      "outputs": [
        {
          "output_type": "execute_result",
          "data": {
            "text/plain": [
              "tensor([[[0.7679, 0.2204, 0.2667],\n",
              "         [0.6712, 0.5510, 0.6327],\n",
              "         [0.6917, 0.1306, 0.6881],\n",
              "         ...,\n",
              "         [0.1384, 0.4561, 0.3429],\n",
              "         [0.8507, 0.1783, 0.9894],\n",
              "         [0.8694, 0.0620, 0.7286]],\n",
              "\n",
              "        [[0.9102, 0.7591, 0.9905],\n",
              "         [0.3060, 0.4554, 0.9861],\n",
              "         [0.4503, 0.6444, 0.3784],\n",
              "         ...,\n",
              "         [0.0042, 0.3877, 0.5767],\n",
              "         [0.9222, 0.3015, 0.4954],\n",
              "         [0.8423, 0.7242, 0.6916]],\n",
              "\n",
              "        [[0.3956, 0.6890, 0.1823],\n",
              "         [0.0914, 0.2748, 0.2319],\n",
              "         [0.7041, 0.3620, 0.1001],\n",
              "         ...,\n",
              "         [0.4761, 0.0729, 0.9503],\n",
              "         [0.7643, 0.6271, 0.6123],\n",
              "         [0.1582, 0.8283, 0.4387]],\n",
              "\n",
              "        ...,\n",
              "\n",
              "        [[0.9188, 0.5919, 0.8377],\n",
              "         [0.3840, 0.9332, 0.7163],\n",
              "         [0.3651, 0.2570, 0.8218],\n",
              "         ...,\n",
              "         [0.9249, 0.2811, 0.7715],\n",
              "         [0.8110, 0.3042, 0.3838],\n",
              "         [0.8027, 0.4728, 0.0407]],\n",
              "\n",
              "        [[0.1188, 0.3541, 0.3566],\n",
              "         [0.2107, 0.5407, 0.5869],\n",
              "         [0.7328, 0.3315, 0.4996],\n",
              "         ...,\n",
              "         [0.4486, 0.5119, 0.1878],\n",
              "         [0.0787, 0.9793, 0.3536],\n",
              "         [0.9716, 0.4106, 0.2536]],\n",
              "\n",
              "        [[0.4307, 0.9010, 0.0710],\n",
              "         [0.9795, 0.8996, 0.0812],\n",
              "         [0.9854, 0.8023, 0.0230],\n",
              "         ...,\n",
              "         [0.6207, 0.6546, 0.8055],\n",
              "         [0.6322, 0.4218, 0.4309],\n",
              "         [0.4100, 0.2587, 0.6808]]])"
            ]
          },
          "metadata": {},
          "execution_count": 37
        }
      ]
    },
    {
      "cell_type": "code",
      "source": [
        "random_image_size_tensor.shape, random_image_size_tensor.ndim"
      ],
      "metadata": {
        "colab": {
          "base_uri": "https://localhost:8080/"
        },
        "id": "jbmsUzmntC-I",
        "outputId": "6e9cc666-e9a7-4aa5-c678-767429b0e364"
      },
      "execution_count": 38,
      "outputs": [
        {
          "output_type": "execute_result",
          "data": {
            "text/plain": [
              "(torch.Size([224, 224, 3]), 3)"
            ]
          },
          "metadata": {},
          "execution_count": 38
        }
      ]
    },
    {
      "cell_type": "markdown",
      "source": [
        "## Zeros and ones"
      ],
      "metadata": {
        "id": "nPf-xer4tNvh"
      }
    },
    {
      "cell_type": "code",
      "source": [
        "## Create a tensor of all zeroes and ones\n",
        "zeroes = torch.zeros(3,4)\n",
        "ones=torch.ones(3,4)\n",
        "zeroes\n",
        "ones"
      ],
      "metadata": {
        "colab": {
          "base_uri": "https://localhost:8080/"
        },
        "id": "S6cMQa4Dulj3",
        "outputId": "a8861015-e268-4e23-fbdf-bd276f6316ad"
      },
      "execution_count": 39,
      "outputs": [
        {
          "output_type": "execute_result",
          "data": {
            "text/plain": [
              "tensor([[1., 1., 1., 1.],\n",
              "        [1., 1., 1., 1.],\n",
              "        [1., 1., 1., 1.]])"
            ]
          },
          "metadata": {},
          "execution_count": 39
        }
      ]
    },
    {
      "cell_type": "code",
      "source": [
        "zeroes.dtype"
      ],
      "metadata": {
        "colab": {
          "base_uri": "https://localhost:8080/"
        },
        "id": "uOQ-HxDtuxHx",
        "outputId": "19b947c0-2416-4a35-f786-159f86c5b1b7"
      },
      "execution_count": 40,
      "outputs": [
        {
          "output_type": "execute_result",
          "data": {
            "text/plain": [
              "torch.float32"
            ]
          },
          "metadata": {},
          "execution_count": 40
        }
      ]
    },
    {
      "cell_type": "markdown",
      "source": [
        "## creating a range of tensors and tensors-like"
      ],
      "metadata": {
        "id": "amaFV8tZwgBX"
      }
    },
    {
      "cell_type": "code",
      "source": [
        "one_to_ten = torch.arange(1, 11, 1) # third arg is step\n",
        "one_to_ten"
      ],
      "metadata": {
        "colab": {
          "base_uri": "https://localhost:8080/"
        },
        "id": "SdPuO4Ppu3q5",
        "outputId": "896c975d-e809-4c29-a938-68157ca99389"
      },
      "execution_count": 41,
      "outputs": [
        {
          "output_type": "execute_result",
          "data": {
            "text/plain": [
              "tensor([ 1,  2,  3,  4,  5,  6,  7,  8,  9, 10])"
            ]
          },
          "metadata": {},
          "execution_count": 41
        }
      ]
    },
    {
      "cell_type": "code",
      "source": [
        "## Creating tensors like\n",
        "ten_zeroes = torch.zeros_like(one_to_ten)\n",
        "ten_zeroes"
      ],
      "metadata": {
        "colab": {
          "base_uri": "https://localhost:8080/"
        },
        "id": "k2ntrdCFv7Y2",
        "outputId": "bb2acccf-52b6-47dd-dc20-192cd2618696"
      },
      "execution_count": 42,
      "outputs": [
        {
          "output_type": "execute_result",
          "data": {
            "text/plain": [
              "tensor([0, 0, 0, 0, 0, 0, 0, 0, 0, 0])"
            ]
          },
          "metadata": {},
          "execution_count": 42
        }
      ]
    },
    {
      "cell_type": "markdown",
      "source": [
        "## Tensor Datatypes"
      ],
      "metadata": {
        "id": "TQ1lZX6ZxCgE"
      }
    },
    {
      "cell_type": "code",
      "source": [
        "#Float 32 Tensor\n",
        "float_32_tensor = torch.tensor([1.0,2.0,3.0],\n",
        "                               dtype=None, # what datatype the tensor is default is float32 -> adjust precision with memory/perf tradeoff\n",
        "                               device=None, # default is 'cpu', the device the tensor is on\n",
        "                               requires_grad=False) # track 'gradients' (or not)\n",
        "float_16_tensor = torch.tensor([1.0,2.0,3.0],\n",
        "                               dtype=torch.float16)\n",
        "\n",
        "float_32_tensor.dtype\n"
      ],
      "metadata": {
        "colab": {
          "base_uri": "https://localhost:8080/"
        },
        "id": "rLfmaHe-0lpN",
        "outputId": "0f542e82-1dc6-4edc-af2a-da9d93361fa6"
      },
      "execution_count": 43,
      "outputs": [
        {
          "output_type": "execute_result",
          "data": {
            "text/plain": [
              "torch.float32"
            ]
          },
          "metadata": {},
          "execution_count": 43
        }
      ]
    },
    {
      "cell_type": "code",
      "source": [
        "float_16_tensor * float_32_tensor"
      ],
      "metadata": {
        "colab": {
          "base_uri": "https://localhost:8080/"
        },
        "id": "Urx83HQH3Mja",
        "outputId": "59fb61ed-72a4-4a72-d2df-a468e5ba1114"
      },
      "execution_count": 44,
      "outputs": [
        {
          "output_type": "execute_result",
          "data": {
            "text/plain": [
              "tensor([1., 4., 9.])"
            ]
          },
          "metadata": {},
          "execution_count": 44
        }
      ]
    },
    {
      "cell_type": "markdown",
      "source": [
        "### Getting Information from tensors\n",
        "\n",
        "\n",
        "\n",
        "1.   Tensors not the right data type - get data type `tensor.dtype`\n",
        "2.   Tensors not the right shape - get shape `tensor.shape`\n",
        "3.   Tensors not the right device - get shape `tensor.device`\n",
        "\n",
        "\n"
      ],
      "metadata": {
        "id": "gkHAOGNq-B_R"
      }
    },
    {
      "cell_type": "code",
      "source": [
        "# create a tensor\n",
        "some_Tensor = torch.rand(3,4)\n",
        "some_Tensor"
      ],
      "metadata": {
        "colab": {
          "base_uri": "https://localhost:8080/"
        },
        "id": "sivnwEau_5ZG",
        "outputId": "18576feb-44ed-4c59-c560-b41cc15ff750"
      },
      "execution_count": 45,
      "outputs": [
        {
          "output_type": "execute_result",
          "data": {
            "text/plain": [
              "tensor([[0.1519, 0.2126, 0.4529, 0.7204],\n",
              "        [0.3525, 0.8774, 0.6073, 0.5367],\n",
              "        [0.7098, 0.3992, 0.5292, 0.5139]])"
            ]
          },
          "metadata": {},
          "execution_count": 45
        }
      ]
    },
    {
      "cell_type": "code",
      "source": [
        "# Find out details of a tensor\n",
        "some_Tensor = some_Tensor.to(torch.float64)\n",
        "print(some_Tensor)\n",
        "print(f\"Data type of tensor: {some_Tensor.dtype}\")\n",
        "print(f\"Shape of tensor: {some_Tensor.shape}\")\n",
        "print(f\"Device of tensor: {some_Tensor.device}\")"
      ],
      "metadata": {
        "colab": {
          "base_uri": "https://localhost:8080/"
        },
        "id": "7IvSWiefAQjC",
        "outputId": "cf99bd36-7146-4baf-ba21-d68fd46577a6"
      },
      "execution_count": 46,
      "outputs": [
        {
          "output_type": "stream",
          "name": "stdout",
          "text": [
            "tensor([[0.1519, 0.2126, 0.4529, 0.7204],\n",
            "        [0.3525, 0.8774, 0.6073, 0.5367],\n",
            "        [0.7098, 0.3992, 0.5292, 0.5139]], dtype=torch.float64)\n",
            "Data type of tensor: torch.float64\n",
            "Shape of tensor: torch.Size([3, 4])\n",
            "Device of tensor: cpu\n"
          ]
        }
      ]
    },
    {
      "cell_type": "markdown",
      "source": [
        "## Manipulating tensors (tensor operations)\n",
        "Addition\n",
        "\n",
        "* Addition\n",
        "* Substraction\n",
        "* Multiplication (element-wise)\n",
        "* Division\n",
        "* Matrix multiplication"
      ],
      "metadata": {
        "id": "1PTf9UtWFGU0"
      }
    },
    {
      "cell_type": "code",
      "source": [
        "# Addition\n",
        "tensor = torch.tensor([1,2,3])\n",
        "print(tensor + 15)\n",
        "# Subtract\n",
        "print(tensor -10)\n",
        "# Multiply\n",
        "print(tensor * 10)\n",
        "# divide\n",
        "print(tensor/2)\n",
        "# matrix multiply (dot product)\n",
        "matrix_to_multiply = torch.tensor([[1],[2],[3]])\n",
        "torch.matmul(tensor, matrix_to_multiply) # (1*1 + 2*2 + 3*3)"
      ],
      "metadata": {
        "colab": {
          "base_uri": "https://localhost:8080/"
        },
        "id": "jqGwmXsMFw9D",
        "outputId": "68b05f91-b99c-4763-9a62-e7cf974d88c6"
      },
      "execution_count": 47,
      "outputs": [
        {
          "output_type": "stream",
          "name": "stdout",
          "text": [
            "tensor([16, 17, 18])\n",
            "tensor([-9, -8, -7])\n",
            "tensor([10, 20, 30])\n",
            "tensor([0.5000, 1.0000, 1.5000])\n"
          ]
        },
        {
          "output_type": "execute_result",
          "data": {
            "text/plain": [
              "tensor([14])"
            ]
          },
          "metadata": {},
          "execution_count": 47
        }
      ]
    },
    {
      "cell_type": "code",
      "source": [
        "## example of dot product from here https://www.mathsisfun.com/algebra/matrix-multiplying.html but using pytorch\n",
        "a = torch.tensor([[1,2,3],[4,5,6]])\n",
        "b = torch.tensor([[7,8],[9,10],[11,12]])\n",
        "torch.matmul(a,b)\n",
        "## note that matmul is way faster than using a traditional for loop\n",
        "## as in any dot product calculation number of rows of a == number columns of b"
      ],
      "metadata": {
        "colab": {
          "base_uri": "https://localhost:8080/"
        },
        "id": "SLp08UG1JyMM",
        "outputId": "c5a84a54-f82a-4e87-b710-83722062c845"
      },
      "execution_count": 48,
      "outputs": [
        {
          "output_type": "execute_result",
          "data": {
            "text/plain": [
              "tensor([[ 58,  64],\n",
              "        [139, 154]])"
            ]
          },
          "metadata": {},
          "execution_count": 48
        }
      ]
    },
    {
      "cell_type": "markdown",
      "source": [
        "## Transposing tensors"
      ],
      "metadata": {
        "id": "XrxCo8B9P2no"
      }
    },
    {
      "cell_type": "code",
      "source": [
        "## Transpose\n",
        "tensor = torch.tensor([[1,2,3]])\n",
        "print(f\"Original Tensor -> {tensor}, size -> {tensor.shape}\")\n",
        "transposed_Tensor = tensor.T\n",
        "print(f\"Transposed Tensor -> {transposed_Tensor}, size -> {transposed_Tensor.shape}\")"
      ],
      "metadata": {
        "colab": {
          "base_uri": "https://localhost:8080/"
        },
        "id": "SP4nOO-_J6N8",
        "outputId": "1213f668-f832-4e6d-cd35-1489a1270a54"
      },
      "execution_count": 75,
      "outputs": [
        {
          "output_type": "stream",
          "name": "stdout",
          "text": [
            "Original Tensor -> tensor([[1, 2, 3]]), size -> torch.Size([1, 3])\n",
            "Transposed Tensor -> tensor([[1],\n",
            "        [2],\n",
            "        [3]]), size -> torch.Size([3, 1])\n"
          ]
        }
      ]
    },
    {
      "cell_type": "markdown",
      "source": [
        "## Aggregations (min, max, sum ...)"
      ],
      "metadata": {
        "id": "NFaFzce9W7Vc"
      }
    },
    {
      "cell_type": "code",
      "source": [
        "## create tensor\n",
        "x = torch.arange(0, 100, 10)\n",
        "print(x)\n",
        "x_min = torch.min(x) # or you can just use x.min() ...ditto for the rest\n",
        "x_min_position = torch.argmin(x)\n",
        "x_max = torch.max(x)\n",
        "x_max_position = torch.argmax(x)\n",
        "x_mean = torch.mean(x.to(torch.float64)) # note here that mean can not work on integers\n",
        "x_total = torch.sum(x)\n",
        "print(f\"min -> {x_min}, position -> {x_min_position}, \\nmax -> {x_max}, position -> {x_max_position}, \\nave -> {x_mean}, \\ntotal -> {x_total}\")"
      ],
      "metadata": {
        "colab": {
          "base_uri": "https://localhost:8080/"
        },
        "id": "g1VTZVR8XBpQ",
        "outputId": "4eb73a3c-d534-4355-b1a3-e7d0dbd60a21"
      },
      "execution_count": 94,
      "outputs": [
        {
          "output_type": "stream",
          "name": "stdout",
          "text": [
            "tensor([ 0, 10, 20, 30, 40, 50, 60, 70, 80, 90])\n",
            "min -> 0, position -> 0, \n",
            "max -> 90, position -> 9, \n",
            "ave -> 45.0, \n",
            "total -> 450\n"
          ]
        }
      ]
    }
  ]
}