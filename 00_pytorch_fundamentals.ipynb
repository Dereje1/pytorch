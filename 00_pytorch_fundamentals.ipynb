{
  "nbformat": 4,
  "nbformat_minor": 0,
  "metadata": {
    "colab": {
      "provenance": [],
      "gpuType": "T4",
      "authorship_tag": "ABX9TyPqZMrXBQBMjBIpNngPJeIw",
      "include_colab_link": true
    },
    "kernelspec": {
      "name": "python3",
      "display_name": "Python 3"
    },
    "language_info": {
      "name": "python"
    }
  },
  "cells": [
    {
      "cell_type": "markdown",
      "metadata": {
        "id": "view-in-github",
        "colab_type": "text"
      },
      "source": [
        "<a href=\"https://colab.research.google.com/github/Dereje1/pytorch/blob/main/00_pytorch_fundamentals.ipynb\" target=\"_parent\"><img src=\"https://colab.research.google.com/assets/colab-badge.svg\" alt=\"Open In Colab\"/></a>"
      ]
    },
    {
      "cell_type": "code",
      "execution_count": 45,
      "metadata": {
        "colab": {
          "base_uri": "https://localhost:8080/"
        },
        "id": "SNZLGUnXcDAB",
        "outputId": "65859f94-e7fa-4bb9-e009-7faf0a993d6e"
      },
      "outputs": [
        {
          "output_type": "stream",
          "name": "stdout",
          "text": [
            "2.0.1+cu118\n"
          ]
        }
      ],
      "source": [
        "import torch\n",
        "import pandas as pd\n",
        "import numpy as np\n",
        "import matplotlib.pyplot as plt\n",
        "print(torch.__version__)"
      ]
    },
    {
      "cell_type": "markdown",
      "source": [
        "Introduction to Tensors\n",
        "\n",
        "Creating tensors\n",
        "\n",
        "Pytorch tensors are created with torch.tensor() -> reference -> https://pytorch.org/docs/stable/tensors.html"
      ],
      "metadata": {
        "id": "hXPFuU-Lhprp"
      }
    },
    {
      "cell_type": "code",
      "source": [
        "#scalar\n",
        "scalar = torch.tensor(7)\n",
        "scalar\n"
      ],
      "metadata": {
        "colab": {
          "base_uri": "https://localhost:8080/"
        },
        "id": "Jj8tS3kFh5AN",
        "outputId": "9255f930-9f3c-4def-b4fe-b4935d2155c4"
      },
      "execution_count": null,
      "outputs": [
        {
          "output_type": "execute_result",
          "data": {
            "text/plain": [
              "tensor(7)"
            ]
          },
          "metadata": {},
          "execution_count": 11
        }
      ]
    },
    {
      "cell_type": "code",
      "source": [
        "scalar.ndim"
      ],
      "metadata": {
        "colab": {
          "base_uri": "https://localhost:8080/"
        },
        "id": "MeF-fMzpjLov",
        "outputId": "4c384dbd-9927-4242-8ab8-a957852e5ca6"
      },
      "execution_count": null,
      "outputs": [
        {
          "output_type": "execute_result",
          "data": {
            "text/plain": [
              "0"
            ]
          },
          "metadata": {},
          "execution_count": 5
        }
      ]
    },
    {
      "cell_type": "code",
      "source": [
        "## Get tensor back as python int\n",
        "scalar.item()"
      ],
      "metadata": {
        "colab": {
          "base_uri": "https://localhost:8080/"
        },
        "id": "uaY61Y2jjzZW",
        "outputId": "6386ced4-ce68-4cc8-9f6e-a441be208502"
      },
      "execution_count": null,
      "outputs": [
        {
          "output_type": "execute_result",
          "data": {
            "text/plain": [
              "7"
            ]
          },
          "metadata": {},
          "execution_count": 7
        }
      ]
    },
    {
      "cell_type": "code",
      "source": [
        "## Vector\n",
        "vector = torch.tensor([7,7])\n",
        "vector"
      ],
      "metadata": {
        "colab": {
          "base_uri": "https://localhost:8080/"
        },
        "id": "fl09UcSDkCzU",
        "outputId": "f8090cfb-b464-451b-97a8-2afbb6e6212a"
      },
      "execution_count": null,
      "outputs": [
        {
          "output_type": "execute_result",
          "data": {
            "text/plain": [
              "tensor([7, 7])"
            ]
          },
          "metadata": {},
          "execution_count": 6
        }
      ]
    },
    {
      "cell_type": "code",
      "source": [
        "## MATRIX\n",
        "MATRIX = torch.tensor([[7,8], [9,10]])\n",
        "MATRIX"
      ],
      "metadata": {
        "colab": {
          "base_uri": "https://localhost:8080/"
        },
        "id": "Y8miIdLwkXMi",
        "outputId": "44948160-c96e-49a4-a64a-e3fa893455c6"
      },
      "execution_count": null,
      "outputs": [
        {
          "output_type": "execute_result",
          "data": {
            "text/plain": [
              "tensor([[ 7,  8],\n",
              "        [ 9, 10]])"
            ]
          },
          "metadata": {},
          "execution_count": 4
        }
      ]
    },
    {
      "cell_type": "code",
      "source": [
        "MATRIX.ndim"
      ],
      "metadata": {
        "colab": {
          "base_uri": "https://localhost:8080/"
        },
        "id": "BDqVpBG8k2dU",
        "outputId": "e8d9a4e7-7361-4bbe-e330-74db2493a78d"
      },
      "execution_count": null,
      "outputs": [
        {
          "output_type": "execute_result",
          "data": {
            "text/plain": [
              "2"
            ]
          },
          "metadata": {},
          "execution_count": 11
        }
      ]
    },
    {
      "cell_type": "code",
      "source": [
        "MATRIX[1]"
      ],
      "metadata": {
        "colab": {
          "base_uri": "https://localhost:8080/"
        },
        "id": "BBzsGXzclNgD",
        "outputId": "3ec56b46-5f9c-45ae-80d2-f5a89a45758e"
      },
      "execution_count": null,
      "outputs": [
        {
          "output_type": "execute_result",
          "data": {
            "text/plain": [
              "tensor([ 9, 10])"
            ]
          },
          "metadata": {},
          "execution_count": 5
        }
      ]
    },
    {
      "cell_type": "code",
      "source": [
        "vector.shape"
      ],
      "metadata": {
        "colab": {
          "base_uri": "https://localhost:8080/"
        },
        "id": "YJjLWY2RlnEq",
        "outputId": "5a1d0fa6-a9c5-406f-ab76-62ce410ab0a7"
      },
      "execution_count": null,
      "outputs": [
        {
          "output_type": "execute_result",
          "data": {
            "text/plain": [
              "torch.Size([2])"
            ]
          },
          "metadata": {},
          "execution_count": 14
        }
      ]
    },
    {
      "cell_type": "code",
      "source": [
        "## TENSOR\n",
        "TENSOR = torch.tensor([\n",
        "    [\n",
        "        [1,2,3],\n",
        "        [4,5,6],\n",
        "        [7,8,9]\n",
        "    ],\n",
        "    [\n",
        "        [11,21,31],\n",
        "        [41,51,61],\n",
        "        [71,81,91]\n",
        "    ]\n",
        "    ])\n",
        "TENSOR"
      ],
      "metadata": {
        "colab": {
          "base_uri": "https://localhost:8080/"
        },
        "id": "l9FADd-wl7vT",
        "outputId": "a734bd3f-3d9d-426c-eb1e-4edc506b6e31"
      },
      "execution_count": null,
      "outputs": [
        {
          "output_type": "execute_result",
          "data": {
            "text/plain": [
              "tensor([[[ 1,  2,  3],\n",
              "         [ 4,  5,  6],\n",
              "         [ 7,  8,  9]],\n",
              "\n",
              "        [[11, 21, 31],\n",
              "         [41, 51, 61],\n",
              "         [71, 81, 91]]])"
            ]
          },
          "metadata": {},
          "execution_count": 38
        }
      ]
    },
    {
      "cell_type": "code",
      "source": [
        "TENSOR.shape"
      ],
      "metadata": {
        "colab": {
          "base_uri": "https://localhost:8080/"
        },
        "id": "txVvg0WAm0H3",
        "outputId": "3d2c3256-2e27-4ee4-f948-ca214ef6e62a"
      },
      "execution_count": null,
      "outputs": [
        {
          "output_type": "execute_result",
          "data": {
            "text/plain": [
              "torch.Size([2, 3, 3])"
            ]
          },
          "metadata": {},
          "execution_count": 39
        }
      ]
    },
    {
      "cell_type": "markdown",
      "source": [
        "## Random Tensors\n",
        "\n",
        "Why Random tensors ?\n",
        "\n",
        "Random tensors are important since the way many nueral networks learn is by starting with a matix of random numbers and then iterate over those numbers to fit the data\n",
        "\n",
        "`Start with random numbers -> look at data -> update random numbers -> look at data -> update random numbers`"
      ],
      "metadata": {
        "id": "vHB0Rel0p3lm"
      }
    },
    {
      "cell_type": "code",
      "source": [
        "## Create random tensors with pytorch of size (3,4)\n",
        "random_tensor = torch.rand(3,4)\n",
        "random_tensor"
      ],
      "metadata": {
        "colab": {
          "base_uri": "https://localhost:8080/"
        },
        "id": "AI4Z7rRZqPVr",
        "outputId": "95c35c73-312f-494c-bd76-4390f9f9be19"
      },
      "execution_count": null,
      "outputs": [
        {
          "output_type": "execute_result",
          "data": {
            "text/plain": [
              "tensor([[0.2703, 0.7000, 0.5504, 0.1923],\n",
              "        [0.1583, 0.3207, 0.0966, 0.4959],\n",
              "        [0.9159, 0.9651, 0.6443, 0.6411]])"
            ]
          },
          "metadata": {},
          "execution_count": 40
        }
      ]
    },
    {
      "cell_type": "code",
      "source": [
        "## Create a random tensor with a similar shape to an image tensor\n",
        "random_image_size_tensor = torch.rand(size=(224,224,3)) #Height, width, color channel (R,G,B)\n",
        "random_image_size_tensor"
      ],
      "metadata": {
        "colab": {
          "base_uri": "https://localhost:8080/"
        },
        "id": "6-uv6vZArhk9",
        "outputId": "41b41256-54c3-48d5-9bdb-226ac6a11ff8"
      },
      "execution_count": 46,
      "outputs": [
        {
          "output_type": "execute_result",
          "data": {
            "text/plain": [
              "tensor([[[1.8442e-01, 4.9374e-02, 8.3410e-01],\n",
              "         [9.0698e-01, 9.3133e-03, 9.3478e-01],\n",
              "         [7.0622e-02, 9.4696e-01, 4.2378e-01],\n",
              "         ...,\n",
              "         [6.8506e-01, 9.0543e-01, 3.0695e-01],\n",
              "         [3.4081e-01, 6.0469e-01, 9.9227e-01],\n",
              "         [1.2111e-01, 7.9372e-01, 2.9272e-01]],\n",
              "\n",
              "        [[7.8611e-02, 3.3113e-01, 7.7216e-02],\n",
              "         [3.5583e-02, 3.1197e-01, 9.2296e-02],\n",
              "         [2.2099e-01, 3.7323e-01, 7.3080e-01],\n",
              "         ...,\n",
              "         [7.2465e-01, 6.9891e-01, 5.3312e-01],\n",
              "         [7.0707e-01, 3.9910e-01, 3.4822e-01],\n",
              "         [2.7469e-01, 4.3633e-01, 5.8948e-01]],\n",
              "\n",
              "        [[7.5332e-01, 4.0006e-01, 1.7162e-03],\n",
              "         [1.9735e-04, 8.5521e-01, 9.3541e-01],\n",
              "         [1.1121e-01, 5.7538e-01, 7.6724e-01],\n",
              "         ...,\n",
              "         [4.7940e-01, 7.1352e-01, 8.1438e-01],\n",
              "         [9.8942e-01, 9.9128e-01, 5.4623e-01],\n",
              "         [8.2131e-01, 4.5077e-01, 6.8932e-01]],\n",
              "\n",
              "        ...,\n",
              "\n",
              "        [[8.3432e-01, 4.2809e-01, 1.5785e-01],\n",
              "         [7.0133e-02, 1.4441e-01, 4.6165e-01],\n",
              "         [3.0065e-01, 1.0211e-01, 7.5396e-01],\n",
              "         ...,\n",
              "         [5.5929e-01, 9.7936e-02, 9.5356e-01],\n",
              "         [2.5788e-01, 9.4573e-01, 6.0202e-01],\n",
              "         [3.9750e-01, 2.8327e-01, 9.5211e-01]],\n",
              "\n",
              "        [[5.9562e-01, 2.2281e-01, 3.9542e-01],\n",
              "         [5.3150e-01, 2.9256e-01, 7.8654e-01],\n",
              "         [3.3367e-01, 6.5533e-01, 2.7822e-01],\n",
              "         ...,\n",
              "         [6.6254e-01, 9.3233e-01, 8.0193e-02],\n",
              "         [5.0225e-01, 6.8310e-01, 8.3230e-01],\n",
              "         [1.2362e-01, 6.8755e-01, 5.4009e-01]],\n",
              "\n",
              "        [[2.8316e-01, 6.0106e-01, 6.2044e-01],\n",
              "         [4.4788e-01, 3.8962e-02, 2.7771e-01],\n",
              "         [6.1463e-01, 2.4704e-01, 1.0891e-01],\n",
              "         ...,\n",
              "         [3.2414e-01, 9.8150e-01, 3.0671e-01],\n",
              "         [7.8336e-01, 5.5659e-01, 9.7804e-01],\n",
              "         [5.7751e-01, 1.1473e-01, 5.4844e-02]]])"
            ]
          },
          "metadata": {},
          "execution_count": 46
        }
      ]
    },
    {
      "cell_type": "code",
      "source": [
        "random_image_size_tensor.shape, random_image_size_tensor.ndim"
      ],
      "metadata": {
        "colab": {
          "base_uri": "https://localhost:8080/"
        },
        "id": "jbmsUzmntC-I",
        "outputId": "bdbc84d6-c045-4b0c-c239-e5cf7ac2d66d"
      },
      "execution_count": 47,
      "outputs": [
        {
          "output_type": "execute_result",
          "data": {
            "text/plain": [
              "(torch.Size([224, 224, 3]), 3)"
            ]
          },
          "metadata": {},
          "execution_count": 47
        }
      ]
    },
    {
      "cell_type": "markdown",
      "source": [
        "## Zeros and ones"
      ],
      "metadata": {
        "id": "nPf-xer4tNvh"
      }
    },
    {
      "cell_type": "code",
      "source": [
        "## Create a tensor of all zeroes and ones\n",
        "zeroes = torch.zeros(3,4)\n",
        "ones=torch.ones(3,4)\n",
        "zeroes\n",
        "ones"
      ],
      "metadata": {
        "colab": {
          "base_uri": "https://localhost:8080/"
        },
        "id": "S6cMQa4Dulj3",
        "outputId": "50cc0a48-224a-479d-9ced-112a9e6090e6"
      },
      "execution_count": 51,
      "outputs": [
        {
          "output_type": "execute_result",
          "data": {
            "text/plain": [
              "tensor([[1., 1., 1., 1.],\n",
              "        [1., 1., 1., 1.],\n",
              "        [1., 1., 1., 1.]])"
            ]
          },
          "metadata": {},
          "execution_count": 51
        }
      ]
    },
    {
      "cell_type": "code",
      "source": [
        "zeroes.dtype"
      ],
      "metadata": {
        "colab": {
          "base_uri": "https://localhost:8080/"
        },
        "id": "uOQ-HxDtuxHx",
        "outputId": "623daccc-bf73-47f7-8bd2-3b02ad888b02"
      },
      "execution_count": 54,
      "outputs": [
        {
          "output_type": "execute_result",
          "data": {
            "text/plain": [
              "torch.float32"
            ]
          },
          "metadata": {},
          "execution_count": 54
        }
      ]
    },
    {
      "cell_type": "markdown",
      "source": [
        "## creating a range of tensors and tensors-like"
      ],
      "metadata": {
        "id": "amaFV8tZwgBX"
      }
    },
    {
      "cell_type": "code",
      "source": [
        "one_to_ten = torch.arange(1, 11, 1) # third arg is step\n",
        "one_to_ten"
      ],
      "metadata": {
        "colab": {
          "base_uri": "https://localhost:8080/"
        },
        "id": "SdPuO4Ppu3q5",
        "outputId": "fa5c911f-19bd-4631-fb56-44e5d9f58a9e"
      },
      "execution_count": 59,
      "outputs": [
        {
          "output_type": "execute_result",
          "data": {
            "text/plain": [
              "tensor([ 1,  2,  3,  4,  5,  6,  7,  8,  9, 10])"
            ]
          },
          "metadata": {},
          "execution_count": 59
        }
      ]
    },
    {
      "cell_type": "code",
      "source": [
        "## Creating tensors like\n",
        "ten_zeroes = torch.zeros_like(one_to_ten)\n",
        "ten_zeroes"
      ],
      "metadata": {
        "colab": {
          "base_uri": "https://localhost:8080/"
        },
        "id": "k2ntrdCFv7Y2",
        "outputId": "c05b6bad-5e6c-46ea-fc12-96048d7f4ad4"
      },
      "execution_count": 61,
      "outputs": [
        {
          "output_type": "execute_result",
          "data": {
            "text/plain": [
              "tensor([0, 0, 0, 0, 0, 0, 0, 0, 0, 0])"
            ]
          },
          "metadata": {},
          "execution_count": 61
        }
      ]
    },
    {
      "cell_type": "code",
      "source": [],
      "metadata": {
        "id": "TQ1lZX6ZxCgE"
      },
      "execution_count": null,
      "outputs": []
    }
  ]
}